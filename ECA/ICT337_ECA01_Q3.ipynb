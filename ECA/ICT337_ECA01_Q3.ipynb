{
 "cells": [
  {
   "cell_type": "markdown",
   "id": "3b3d6433",
   "metadata": {},
   "source": [
    "## 3a"
   ]
  },
  {
   "cell_type": "code",
   "execution_count": 1,
   "id": "bc399d87",
   "metadata": {},
   "outputs": [],
   "source": [
    "#Import libraries\n",
    "from pyspark.sql import SparkSession\n",
    "from pyspark.sql import functions as f\n",
    "from pyspark.sql.functions import *\n",
    "from functools import reduce"
   ]
  },
  {
   "cell_type": "code",
   "execution_count": 2,
   "id": "499e371e",
   "metadata": {},
   "outputs": [
    {
     "name": "stderr",
     "output_type": "stream",
     "text": [
      "Setting default log level to \"WARN\".\n",
      "To adjust logging level use sc.setLogLevel(newLevel). For SparkR, use setLogLevel(newLevel).\n",
      "23/10/25 20:34:58 WARN NativeCodeLoader: Unable to load native-hadoop library for your platform... using builtin-java classes where applicable\n",
      "23/10/25 20:34:59 WARN Utils: Service 'SparkUI' could not bind on port 4040. Attempting port 4041.\n"
     ]
    }
   ],
   "source": [
    "#Start spark session\n",
    "spark = SparkSession \\\n",
    "    .builder \\\n",
    "    .appName(\"ICT330 ECA Q3\") \\\n",
    "    .config(\"spark.some.config.option\", \"some-value\") \\\n",
    "    .getOrCreate()"
   ]
  },
  {
   "cell_type": "code",
   "execution_count": 3,
   "id": "8cbe19f2",
   "metadata": {},
   "outputs": [],
   "source": [
    "#Read tsv file and store into dataframe\n",
    "vehiclempg = spark\\\n",
    ".read\\\n",
    ".option(\"inferSchema\", \"true\")\\\n",
    ".option(\"header\", \"true\")\\\n",
    ".option(\"sep\", \"\\t\")\\\n",
    ".csv (\"vehicle_mpg.tsv\")"
   ]
  },
  {
   "cell_type": "code",
   "execution_count": 4,
   "id": "da8189ee",
   "metadata": {},
   "outputs": [
    {
     "name": "stdout",
     "output_type": "stream",
     "text": [
      "+----+---------+------------+----------+------+------------+---------+------+----------------------------+\n",
      "|mpg |cylinders|displacement|horsepower|weight|acceleration|modelyear|origin|carname                     |\n",
      "+----+---------+------------+----------+------+------------+---------+------+----------------------------+\n",
      "|18.0|8        |307.0       |130.0     |3504  |12.0        |70       |1     |chevrolet chevelle malibu   |\n",
      "|15.0|8        |350.0       |165.0     |3693  |11.5        |70       |1     |buick skylark 320           |\n",
      "|18.0|8        |318.0       |150.0     |3436  |11.0        |70       |1     |plymouth satellite          |\n",
      "|16.0|8        |304.0       |150.0     |3433  |12.0        |70       |1     |amc rebel sst               |\n",
      "|17.0|8        |302.0       |140.0     |3449  |10.5        |70       |1     |ford torino                 |\n",
      "|15.0|8        |429.0       |198.0     |4341  |10.0        |70       |1     |ford galaxie 500            |\n",
      "|14.0|8        |454.0       |220.0     |4354  |9.0         |70       |1     |chevrolet impala            |\n",
      "|14.0|8        |440.0       |215.0     |4312  |8.5         |70       |1     |plymouth fury iii           |\n",
      "|14.0|8        |455.0       |225.0     |4425  |10.0        |70       |1     |pontiac catalina            |\n",
      "|15.0|8        |390.0       |190.0     |3850  |8.5         |70       |1     |amc ambassador dpl          |\n",
      "|15.0|8        |383.0       |170.0     |3563  |10.0        |70       |1     |dodge challenger se         |\n",
      "|14.0|8        |340.0       |160.0     |3609  |8.0         |70       |1     |plymouth 'cuda 340          |\n",
      "|15.0|8        |400.0       |150.0     |3761  |9.5         |70       |1     |chevrolet monte carlo       |\n",
      "|14.0|8        |455.0       |225.0     |3086  |10.0        |70       |1     |buick estate wagon (sw)     |\n",
      "|24.0|4        |113.0       |95.0      |2372  |15.0        |70       |3     |toyota corona mark ii       |\n",
      "|22.0|6        |198.0       |95.0      |2833  |15.5        |70       |1     |plymouth duster             |\n",
      "|18.0|6        |199.0       |97.0      |2774  |15.5        |70       |1     |amc hornet                  |\n",
      "|21.0|6        |200.0       |85.0      |2587  |16.0        |70       |1     |ford maverick               |\n",
      "|27.0|4        |97.0        |88.0      |2130  |14.5        |70       |3     |datsun pl510                |\n",
      "|26.0|4        |97.0        |46.0      |1835  |20.5        |70       |2     |volkswagen 1131 deluxe sedan|\n",
      "+----+---------+------------+----------+------+------------+---------+------+----------------------------+\n",
      "only showing top 20 rows\n",
      "\n"
     ]
    }
   ],
   "source": [
    "#Show the content of flights_data\n",
    "vehiclempg.show(truncate=False)"
   ]
  },
  {
   "cell_type": "code",
   "execution_count": 5,
   "id": "33c9a1d7",
   "metadata": {},
   "outputs": [
    {
     "data": {
      "text/plain": [
       "398"
      ]
     },
     "execution_count": 5,
     "metadata": {},
     "output_type": "execute_result"
    }
   ],
   "source": [
    "#Show the number of occurences \n",
    "vehiclempg.count()"
   ]
  },
  {
   "cell_type": "code",
   "execution_count": 6,
   "id": "8d31b03f",
   "metadata": {},
   "outputs": [
    {
     "name": "stdout",
     "output_type": "stream",
     "text": [
      "root\n",
      " |-- mpg: double (nullable = true)\n",
      " |-- cylinders: integer (nullable = true)\n",
      " |-- displacement: double (nullable = true)\n",
      " |-- horsepower: double (nullable = true)\n",
      " |-- weight: decimal(4,0) (nullable = true)\n",
      " |-- acceleration: double (nullable = true)\n",
      " |-- modelyear: integer (nullable = true)\n",
      " |-- origin: integer (nullable = true)\n",
      " |-- carname: string (nullable = true)\n",
      "\n"
     ]
    }
   ],
   "source": [
    "#Show the schema\n",
    "vehiclempg.printSchema()"
   ]
  },
  {
   "cell_type": "code",
   "execution_count": 7,
   "id": "6f148a05",
   "metadata": {},
   "outputs": [
    {
     "name": "stdout",
     "output_type": "stream",
     "text": [
      "(398, 9)\n"
     ]
    }
   ],
   "source": [
    "#Show the dimensions of the Dateframe\n",
    "print((vehiclempg.count(), len(vehiclempg.columns)))"
   ]
  },
  {
   "cell_type": "markdown",
   "id": "4f9734d5",
   "metadata": {},
   "source": [
    "## 3b"
   ]
  },
  {
   "cell_type": "code",
   "execution_count": 8,
   "id": "0e1ba223",
   "metadata": {},
   "outputs": [
    {
     "name": "stdout",
     "output_type": "stream",
     "text": [
      "+----+---------+------------+----------+------+------------+---------+------+--------------------+\n",
      "| mpg|cylinders|displacement|horsepower|weight|acceleration|modelyear|origin|             carname|\n",
      "+----+---------+------------+----------+------+------------+---------+------+--------------------+\n",
      "|25.0|        4|        98.0|      null|  2046|        19.0|       71|     1|          ford pinto|\n",
      "|21.0|        6|       200.0|      null|  2875|        17.0|       74|     1|       ford maverick|\n",
      "|40.9|        4|        85.0|      null|  1835|        17.3|       80|     2|renault lecar deluxe|\n",
      "|23.6|        4|       140.0|      null|  2905|        14.3|       80|     1|  ford mustang cobra|\n",
      "|34.5|        4|       100.0|      null|  2320|        15.8|       81|     2|         renault 18i|\n",
      "|23.0|        4|       151.0|      null|  3035|        20.5|       82|     1|      amc concord dl|\n",
      "+----+---------+------------+----------+------+------------+---------+------+--------------------+\n",
      "\n"
     ]
    }
   ],
   "source": [
    "#Display rows with missing values \n",
    "missing_data = vehiclempg.where(reduce(lambda x, y: x | y, (f.col(x).isNull() for x in vehiclempg.columns)))\n",
    "missing_data.show()"
   ]
  },
  {
   "cell_type": "code",
   "execution_count": 9,
   "id": "7cface2a",
   "metadata": {},
   "outputs": [
    {
     "data": {
      "text/plain": [
       "6"
      ]
     },
     "execution_count": 9,
     "metadata": {},
     "output_type": "execute_result"
    }
   ],
   "source": [
    "#Display the count of missing values\n",
    "missing_data.count()"
   ]
  },
  {
   "cell_type": "code",
   "execution_count": 10,
   "id": "84ca3821",
   "metadata": {},
   "outputs": [
    {
     "name": "stdout",
     "output_type": "stream",
     "text": [
      "Original DataFrame Count: 398\n",
      "Cleaned DataFrame Count: 392\n"
     ]
    }
   ],
   "source": [
    "#Drop missing values \n",
    "vehiclempg_new = vehiclempg.na.drop()\n",
    "\n",
    "#Show the count of rows in the original and cleaned DataFrames\n",
    "print(\"Original DataFrame Count:\", vehiclempg.count())\n",
    "print(\"Cleaned DataFrame Count:\", vehiclempg_new.count())"
   ]
  },
  {
   "cell_type": "code",
   "execution_count": 11,
   "id": "f4bcf294",
   "metadata": {},
   "outputs": [
    {
     "name": "stdout",
     "output_type": "stream",
     "text": [
      "+----+---------+------------+----------+------+------------+---------+------+----------------------------+\n",
      "|mpg |cylinders|displacement|horsepower|weight|acceleration|modelyear|origin|carname                     |\n",
      "+----+---------+------------+----------+------+------------+---------+------+----------------------------+\n",
      "|18.0|8        |307.0       |130.0     |3504  |12.0        |70       |1     |chevrolet chevelle malibu   |\n",
      "|15.0|8        |350.0       |165.0     |3693  |11.5        |70       |1     |buick skylark 320           |\n",
      "|18.0|8        |318.0       |150.0     |3436  |11.0        |70       |1     |plymouth satellite          |\n",
      "|16.0|8        |304.0       |150.0     |3433  |12.0        |70       |1     |amc rebel sst               |\n",
      "|17.0|8        |302.0       |140.0     |3449  |10.5        |70       |1     |ford torino                 |\n",
      "|15.0|8        |429.0       |198.0     |4341  |10.0        |70       |1     |ford galaxie 500            |\n",
      "|14.0|8        |454.0       |220.0     |4354  |9.0         |70       |1     |chevrolet impala            |\n",
      "|14.0|8        |440.0       |215.0     |4312  |8.5         |70       |1     |plymouth fury iii           |\n",
      "|14.0|8        |455.0       |225.0     |4425  |10.0        |70       |1     |pontiac catalina            |\n",
      "|15.0|8        |390.0       |190.0     |3850  |8.5         |70       |1     |amc ambassador dpl          |\n",
      "|15.0|8        |383.0       |170.0     |3563  |10.0        |70       |1     |dodge challenger se         |\n",
      "|14.0|8        |340.0       |160.0     |3609  |8.0         |70       |1     |plymouth 'cuda 340          |\n",
      "|15.0|8        |400.0       |150.0     |3761  |9.5         |70       |1     |chevrolet monte carlo       |\n",
      "|14.0|8        |455.0       |225.0     |3086  |10.0        |70       |1     |buick estate wagon (sw)     |\n",
      "|24.0|4        |113.0       |95.0      |2372  |15.0        |70       |3     |toyota corona mark ii       |\n",
      "|22.0|6        |198.0       |95.0      |2833  |15.5        |70       |1     |plymouth duster             |\n",
      "|18.0|6        |199.0       |97.0      |2774  |15.5        |70       |1     |amc hornet                  |\n",
      "|21.0|6        |200.0       |85.0      |2587  |16.0        |70       |1     |ford maverick               |\n",
      "|27.0|4        |97.0        |88.0      |2130  |14.5        |70       |3     |datsun pl510                |\n",
      "|26.0|4        |97.0        |46.0      |1835  |20.5        |70       |2     |volkswagen 1131 deluxe sedan|\n",
      "+----+---------+------------+----------+------+------------+---------+------+----------------------------+\n",
      "only showing top 20 rows\n",
      "\n"
     ]
    }
   ],
   "source": [
    "#Show dataframe after dropping of rows\n",
    "vehiclempg_new.show(truncate=False)"
   ]
  },
  {
   "cell_type": "code",
   "execution_count": 12,
   "id": "9a598760",
   "metadata": {},
   "outputs": [
    {
     "name": "stderr",
     "output_type": "stream",
     "text": [
      "23/10/25 20:35:16 WARN package: Truncated the string representation of a plan since it was too large. This behavior can be adjusted by setting 'spark.sql.debug.maxToStringFields'.\n"
     ]
    },
    {
     "name": "stdout",
     "output_type": "stream",
     "text": [
      "+-------+-----------------+------------------+------------------+------------------+-----------------+------------------+-----------------+------------------+\n",
      "|summary|              mpg|         cylinders|      displacement|        horsepower|           weight|      acceleration|        modelyear|            origin|\n",
      "+-------+-----------------+------------------+------------------+------------------+-----------------+------------------+-----------------+------------------+\n",
      "|  count|              392|               392|               392|               392|              392|               392|              392|               392|\n",
      "|   mean|23.44591836734694| 5.471938775510204|194.41198979591837|104.46938775510205|        2977.5842|15.541326530612228| 75.9795918367347|1.5765306122448979|\n",
      "| stddev|7.805007486571802|1.7057832474527845|104.64400390890465| 38.49115993282846|849.4025600429486|  2.75886411918808|3.683736543577868|0.8055181834183057|\n",
      "|    min|              9.0|                 3|              68.0|              46.0|             1613|               8.0|               70|                 1|\n",
      "|    25%|             17.0|                 4|             105.0|              75.0|           2223.0|              13.7|               73|                 1|\n",
      "|    50%|             22.5|                 4|             151.0|              93.0|           2800.0|              15.5|               76|                 1|\n",
      "|    75%|             29.0|                 8|             267.0|             125.0|           3613.0|              17.0|               79|                 2|\n",
      "|    max|             46.6|                 8|             455.0|             230.0|             5140|              24.8|               82|                 3|\n",
      "+-------+-----------------+------------------+------------------+------------------+-----------------+------------------+-----------------+------------------+\n",
      "\n"
     ]
    }
   ],
   "source": [
    "#Perform statistical profiling for numerical columns\n",
    "vehiclempg_new.select(\"mpg\",\"cylinders\",\"displacement\",\"horsepower\",\"weight\",\"acceleration\",\"modelyear\",\"origin\").summary().show()"
   ]
  },
  {
   "cell_type": "markdown",
   "id": "2f553823",
   "metadata": {},
   "source": [
    "## 3c"
   ]
  },
  {
   "cell_type": "code",
   "execution_count": 14,
   "id": "f2359e46",
   "metadata": {},
   "outputs": [
    {
     "name": "stdout",
     "output_type": "stream",
     "text": [
      "+----+---------+------------+----------+------+------------+---------+------+--------------------+------------+\n",
      "| mpg|cylinders|displacement|horsepower|weight|acceleration|modelyear|origin|             carname|manufacturer|\n",
      "+----+---------+------------+----------+------+------------+---------+------+--------------------+------------+\n",
      "|18.0|        8|       307.0|     130.0|  3504|        12.0|       70|     1|chevrolet chevell...|   chevrolet|\n",
      "|15.0|        8|       350.0|     165.0|  3693|        11.5|       70|     1|   buick skylark 320|       buick|\n",
      "|18.0|        8|       318.0|     150.0|  3436|        11.0|       70|     1|  plymouth satellite|    plymouth|\n",
      "|16.0|        8|       304.0|     150.0|  3433|        12.0|       70|     1|       amc rebel sst|         amc|\n",
      "|17.0|        8|       302.0|     140.0|  3449|        10.5|       70|     1|         ford torino|        ford|\n",
      "|15.0|        8|       429.0|     198.0|  4341|        10.0|       70|     1|    ford galaxie 500|        ford|\n",
      "|14.0|        8|       454.0|     220.0|  4354|         9.0|       70|     1|    chevrolet impala|   chevrolet|\n",
      "|14.0|        8|       440.0|     215.0|  4312|         8.5|       70|     1|   plymouth fury iii|    plymouth|\n",
      "|14.0|        8|       455.0|     225.0|  4425|        10.0|       70|     1|    pontiac catalina|     pontiac|\n",
      "|15.0|        8|       390.0|     190.0|  3850|         8.5|       70|     1|  amc ambassador dpl|         amc|\n",
      "|15.0|        8|       383.0|     170.0|  3563|        10.0|       70|     1| dodge challenger se|       dodge|\n",
      "|14.0|        8|       340.0|     160.0|  3609|         8.0|       70|     1|  plymouth 'cuda 340|    plymouth|\n",
      "|15.0|        8|       400.0|     150.0|  3761|         9.5|       70|     1|chevrolet monte c...|   chevrolet|\n",
      "|14.0|        8|       455.0|     225.0|  3086|        10.0|       70|     1|buick estate wago...|       buick|\n",
      "|24.0|        4|       113.0|      95.0|  2372|        15.0|       70|     3|toyota corona mar...|      toyota|\n",
      "|22.0|        6|       198.0|      95.0|  2833|        15.5|       70|     1|     plymouth duster|    plymouth|\n",
      "|18.0|        6|       199.0|      97.0|  2774|        15.5|       70|     1|          amc hornet|         amc|\n",
      "|21.0|        6|       200.0|      85.0|  2587|        16.0|       70|     1|       ford maverick|        ford|\n",
      "|27.0|        4|        97.0|      88.0|  2130|        14.5|       70|     3|        datsun pl510|      datsun|\n",
      "|26.0|        4|        97.0|      46.0|  1835|        20.5|       70|     2|volkswagen 1131 d...|  volkswagen|\n",
      "+----+---------+------------+----------+------+------------+---------+------+--------------------+------------+\n",
      "only showing top 20 rows\n",
      "\n"
     ]
    }
   ],
   "source": [
    "#Bullet Point 1\n",
    "\n",
    "#Create new \"manufacturer\" column.\n",
    "#Populate the column by extracting the first word of \"carname\" column\n",
    "\n",
    "from pyspark.sql.functions import udf\n",
    "from pyspark.sql.types import StringType\n",
    "\n",
    "def populate_column(text):\n",
    "    first_word = text.split()\n",
    "    if len(first_word) > 0:\n",
    "        return first_word[0]\n",
    "    return None\n",
    "\n",
    "populate_column_udf = udf(populate_column, StringType())\n",
    "\n",
    "vehiclempg_new = vehiclempg_new.withColumn(\"manufacturer\", populate_column_udf(col(\"carname\")))\n",
    "vehiclempg_new.show()\n"
   ]
  },
  {
   "cell_type": "code",
   "execution_count": 15,
   "id": "bd28e92e",
   "metadata": {},
   "outputs": [
    {
     "data": {
      "text/plain": [
       "392"
      ]
     },
     "execution_count": 15,
     "metadata": {},
     "output_type": "execute_result"
    }
   ],
   "source": [
    "vehiclempg_new.count()"
   ]
  },
  {
   "cell_type": "code",
   "execution_count": 16,
   "id": "5b9247fe",
   "metadata": {},
   "outputs": [
    {
     "name": "stdout",
     "output_type": "stream",
     "text": [
      "+----+---------+------------+----------+------+------------+---------+------+--------------------+------------+\n",
      "| mpg|cylinders|displacement|horsepower|weight|acceleration|modelyear|origin|             carname|manufacturer|\n",
      "+----+---------+------------+----------+------+------------+---------+------+--------------------+------------+\n",
      "|18.0|        8|       307.0|     130.0|  3504|        12.0|     1970|     1|chevrolet chevell...|   chevrolet|\n",
      "|15.0|        8|       350.0|     165.0|  3693|        11.5|     1970|     1|   buick skylark 320|       buick|\n",
      "|18.0|        8|       318.0|     150.0|  3436|        11.0|     1970|     1|  plymouth satellite|    plymouth|\n",
      "|16.0|        8|       304.0|     150.0|  3433|        12.0|     1970|     1|       amc rebel sst|         amc|\n",
      "|17.0|        8|       302.0|     140.0|  3449|        10.5|     1970|     1|         ford torino|        ford|\n",
      "|15.0|        8|       429.0|     198.0|  4341|        10.0|     1970|     1|    ford galaxie 500|        ford|\n",
      "|14.0|        8|       454.0|     220.0|  4354|         9.0|     1970|     1|    chevrolet impala|   chevrolet|\n",
      "|14.0|        8|       440.0|     215.0|  4312|         8.5|     1970|     1|   plymouth fury iii|    plymouth|\n",
      "|14.0|        8|       455.0|     225.0|  4425|        10.0|     1970|     1|    pontiac catalina|     pontiac|\n",
      "|15.0|        8|       390.0|     190.0|  3850|         8.5|     1970|     1|  amc ambassador dpl|         amc|\n",
      "|15.0|        8|       383.0|     170.0|  3563|        10.0|     1970|     1| dodge challenger se|       dodge|\n",
      "|14.0|        8|       340.0|     160.0|  3609|         8.0|     1970|     1|  plymouth 'cuda 340|    plymouth|\n",
      "|15.0|        8|       400.0|     150.0|  3761|         9.5|     1970|     1|chevrolet monte c...|   chevrolet|\n",
      "|14.0|        8|       455.0|     225.0|  3086|        10.0|     1970|     1|buick estate wago...|       buick|\n",
      "|24.0|        4|       113.0|      95.0|  2372|        15.0|     1970|     3|toyota corona mar...|      toyota|\n",
      "|22.0|        6|       198.0|      95.0|  2833|        15.5|     1970|     1|     plymouth duster|    plymouth|\n",
      "|18.0|        6|       199.0|      97.0|  2774|        15.5|     1970|     1|          amc hornet|         amc|\n",
      "|21.0|        6|       200.0|      85.0|  2587|        16.0|     1970|     1|       ford maverick|        ford|\n",
      "|27.0|        4|        97.0|      88.0|  2130|        14.5|     1970|     3|        datsun pl510|      datsun|\n",
      "|26.0|        4|        97.0|      46.0|  1835|        20.5|     1970|     2|volkswagen 1131 d...|  volkswagen|\n",
      "+----+---------+------------+----------+------+------------+---------+------+--------------------+------------+\n",
      "only showing top 20 rows\n",
      "\n"
     ]
    }
   ],
   "source": [
    "#Bullet Point 2\n",
    "\n",
    "#appending prefix \"19\" in data of \"modelyear\" column\n",
    "vehiclempg_new = vehiclempg_new.withColumn(\"modelyear\", f.concat(f.lit(\"19\"),vehiclempg_new.modelyear))\n",
    "vehiclempg_new.show()"
   ]
  },
  {
   "cell_type": "code",
   "execution_count": 17,
   "id": "7bf36cdc",
   "metadata": {},
   "outputs": [
    {
     "data": {
      "text/plain": [
       "392"
      ]
     },
     "execution_count": 17,
     "metadata": {},
     "output_type": "execute_result"
    }
   ],
   "source": [
    "vehiclempg_new.count()"
   ]
  },
  {
   "cell_type": "code",
   "execution_count": 18,
   "id": "6582117a",
   "metadata": {},
   "outputs": [
    {
     "name": "stdout",
     "output_type": "stream",
     "text": [
      "+----+---------+------------+----------+------+------------+---------+------+--------------------+------------+---------+\n",
      "| mpg|cylinders|displacement|horsepower|weight|acceleration|modelyear|origin|             carname|manufacturer|mpg_class|\n",
      "+----+---------+------------+----------+------+------------+---------+------+--------------------+------------+---------+\n",
      "|18.0|        8|       307.0|     130.0|  3504|        12.0|     1970|     1|chevrolet chevell...|   chevrolet|      low|\n",
      "|15.0|        8|       350.0|     165.0|  3693|        11.5|     1970|     1|   buick skylark 320|       buick|      low|\n",
      "|18.0|        8|       318.0|     150.0|  3436|        11.0|     1970|     1|  plymouth satellite|    plymouth|      low|\n",
      "|16.0|        8|       304.0|     150.0|  3433|        12.0|     1970|     1|       amc rebel sst|         amc|      low|\n",
      "|17.0|        8|       302.0|     140.0|  3449|        10.5|     1970|     1|         ford torino|        ford|      low|\n",
      "|15.0|        8|       429.0|     198.0|  4341|        10.0|     1970|     1|    ford galaxie 500|        ford|      low|\n",
      "|14.0|        8|       454.0|     220.0|  4354|         9.0|     1970|     1|    chevrolet impala|   chevrolet|      low|\n",
      "|14.0|        8|       440.0|     215.0|  4312|         8.5|     1970|     1|   plymouth fury iii|    plymouth|      low|\n",
      "|14.0|        8|       455.0|     225.0|  4425|        10.0|     1970|     1|    pontiac catalina|     pontiac|      low|\n",
      "|15.0|        8|       390.0|     190.0|  3850|         8.5|     1970|     1|  amc ambassador dpl|         amc|      low|\n",
      "|15.0|        8|       383.0|     170.0|  3563|        10.0|     1970|     1| dodge challenger se|       dodge|      low|\n",
      "|14.0|        8|       340.0|     160.0|  3609|         8.0|     1970|     1|  plymouth 'cuda 340|    plymouth|      low|\n",
      "|15.0|        8|       400.0|     150.0|  3761|         9.5|     1970|     1|chevrolet monte c...|   chevrolet|      low|\n",
      "|14.0|        8|       455.0|     225.0|  3086|        10.0|     1970|     1|buick estate wago...|       buick|      low|\n",
      "|24.0|        4|       113.0|      95.0|  2372|        15.0|     1970|     3|toyota corona mar...|      toyota|      mid|\n",
      "|22.0|        6|       198.0|      95.0|  2833|        15.5|     1970|     1|     plymouth duster|    plymouth|      mid|\n",
      "|18.0|        6|       199.0|      97.0|  2774|        15.5|     1970|     1|          amc hornet|         amc|      low|\n",
      "|21.0|        6|       200.0|      85.0|  2587|        16.0|     1970|     1|       ford maverick|        ford|      mid|\n",
      "|27.0|        4|        97.0|      88.0|  2130|        14.5|     1970|     3|        datsun pl510|      datsun|      mid|\n",
      "|26.0|        4|        97.0|      46.0|  1835|        20.5|     1970|     2|volkswagen 1131 d...|  volkswagen|      mid|\n",
      "+----+---------+------------+----------+------+------------+---------+------+--------------------+------------+---------+\n",
      "only showing top 20 rows\n",
      "\n"
     ]
    }
   ],
   "source": [
    "#Bullet point 3\n",
    "\n",
    "#Create a new column called “mpg_class” with the following classification\n",
    "#criteria: “low” for mpg <=20, “mid” for 20 < mpg <=30, “high” for 30 < mpg\n",
    "#<=40, and “very high” for mpg > 40.\n",
    "\n",
    "vehiclempg_new = vehiclempg_new.withColumn(\"mpg_class\",\n",
    "                when((col(\"mpg\") <= 20) , \"low\")\n",
    "                  .when((col(\"mpg\") > 20) & (col(\"mpg\") <= 30), \"mid\")\n",
    "                  .when((col(\"mpg\") > 30) & (col(\"mpg\") <= 40), \"high\")\n",
    "                  .otherwise(\"very high\"))\n",
    "\n",
    "vehiclempg_new.show()"
   ]
  },
  {
   "cell_type": "code",
   "execution_count": 19,
   "id": "990148a8",
   "metadata": {},
   "outputs": [
    {
     "data": {
      "text/plain": [
       "392"
      ]
     },
     "execution_count": 19,
     "metadata": {},
     "output_type": "execute_result"
    }
   ],
   "source": [
    "vehiclempg_new.count()"
   ]
  },
  {
   "cell_type": "markdown",
   "id": "94ce6537",
   "metadata": {},
   "source": [
    "## 3d"
   ]
  },
  {
   "cell_type": "code",
   "execution_count": 20,
   "id": "c2808cce",
   "metadata": {},
   "outputs": [],
   "source": [
    "#Read csv and store in dataframe\n",
    "vehiclemanufacturers = spark\\\n",
    ".read\\\n",
    ".option(\"inferSchema\", \"true\")\\\n",
    ".option(\"header\", \"true\")\\\n",
    ".csv (\"vehicle_manufacturers.csv\")"
   ]
  },
  {
   "cell_type": "code",
   "execution_count": 21,
   "id": "7cd57b0b",
   "metadata": {},
   "outputs": [
    {
     "name": "stdout",
     "output_type": "stream",
     "text": [
      "+-------------+-------+\n",
      "| manufacturer|country|\n",
      "+-------------+-------+\n",
      "|          amc|     us|\n",
      "|         audi|germany|\n",
      "|          bmw|germany|\n",
      "|        buick|     us|\n",
      "|     cadillac|     us|\n",
      "|        capri|     us|\n",
      "|    chevroelt|     us|\n",
      "|    chevrolet|     us|\n",
      "|        chevy|     us|\n",
      "|     chrysler|     us|\n",
      "|       datsun|  japan|\n",
      "|        dodge|     us|\n",
      "|         fiat|  italy|\n",
      "|         ford|     us|\n",
      "|           hi|     us|\n",
      "|        honda|  japan|\n",
      "|        maxda|  japan|\n",
      "|        mazda|  japan|\n",
      "|     mercedes|germany|\n",
      "|mercedes-benz|germany|\n",
      "+-------------+-------+\n",
      "only showing top 20 rows\n",
      "\n"
     ]
    }
   ],
   "source": [
    "vehiclemanufacturers.show()"
   ]
  },
  {
   "cell_type": "code",
   "execution_count": 22,
   "id": "5fba2a72",
   "metadata": {},
   "outputs": [
    {
     "name": "stdout",
     "output_type": "stream",
     "text": [
      "+------------+-------+----+---------+------------+----------+------+------------+---------+------+--------------------+---------+\n",
      "|manufacturer|country| mpg|cylinders|displacement|horsepower|weight|acceleration|modelyear|origin|             carname|mpg_class|\n",
      "+------------+-------+----+---------+------------+----------+------+------------+---------+------+--------------------+---------+\n",
      "|   chevrolet|     us|18.0|        8|       307.0|     130.0|  3504|        12.0|     1970|     1|chevrolet chevell...|      low|\n",
      "|       buick|     us|15.0|        8|       350.0|     165.0|  3693|        11.5|     1970|     1|   buick skylark 320|      low|\n",
      "|    plymouth|     us|18.0|        8|       318.0|     150.0|  3436|        11.0|     1970|     1|  plymouth satellite|      low|\n",
      "|         amc|     us|16.0|        8|       304.0|     150.0|  3433|        12.0|     1970|     1|       amc rebel sst|      low|\n",
      "|        ford|     us|17.0|        8|       302.0|     140.0|  3449|        10.5|     1970|     1|         ford torino|      low|\n",
      "|        ford|     us|15.0|        8|       429.0|     198.0|  4341|        10.0|     1970|     1|    ford galaxie 500|      low|\n",
      "|   chevrolet|     us|14.0|        8|       454.0|     220.0|  4354|         9.0|     1970|     1|    chevrolet impala|      low|\n",
      "|    plymouth|     us|14.0|        8|       440.0|     215.0|  4312|         8.5|     1970|     1|   plymouth fury iii|      low|\n",
      "|     pontiac|     us|14.0|        8|       455.0|     225.0|  4425|        10.0|     1970|     1|    pontiac catalina|      low|\n",
      "|         amc|     us|15.0|        8|       390.0|     190.0|  3850|         8.5|     1970|     1|  amc ambassador dpl|      low|\n",
      "|       dodge|     us|15.0|        8|       383.0|     170.0|  3563|        10.0|     1970|     1| dodge challenger se|      low|\n",
      "|    plymouth|     us|14.0|        8|       340.0|     160.0|  3609|         8.0|     1970|     1|  plymouth 'cuda 340|      low|\n",
      "|   chevrolet|     us|15.0|        8|       400.0|     150.0|  3761|         9.5|     1970|     1|chevrolet monte c...|      low|\n",
      "|       buick|     us|14.0|        8|       455.0|     225.0|  3086|        10.0|     1970|     1|buick estate wago...|      low|\n",
      "|      toyota|  japan|24.0|        4|       113.0|      95.0|  2372|        15.0|     1970|     3|toyota corona mar...|      mid|\n",
      "|    plymouth|     us|22.0|        6|       198.0|      95.0|  2833|        15.5|     1970|     1|     plymouth duster|      mid|\n",
      "|         amc|     us|18.0|        6|       199.0|      97.0|  2774|        15.5|     1970|     1|          amc hornet|      low|\n",
      "|        ford|     us|21.0|        6|       200.0|      85.0|  2587|        16.0|     1970|     1|       ford maverick|      mid|\n",
      "|      datsun|  japan|27.0|        4|        97.0|      88.0|  2130|        14.5|     1970|     3|        datsun pl510|      mid|\n",
      "|  volkswagen|germany|26.0|        4|        97.0|      46.0|  1835|        20.5|     1970|     2|volkswagen 1131 d...|      mid|\n",
      "+------------+-------+----+---------+------------+----------+------+------------+---------+------+--------------------+---------+\n",
      "only showing top 20 rows\n",
      "\n"
     ]
    }
   ],
   "source": [
    "#Join with vehiclempg_new and show content\n",
    "vehicle = vehiclemanufacturers.join(vehiclempg_new,\n",
    "               on='manufacturer',how=\"inner\")\n",
    "vehicle.show()"
   ]
  },
  {
   "cell_type": "markdown",
   "id": "e581d1eb",
   "metadata": {},
   "source": [
    "## 3e"
   ]
  },
  {
   "cell_type": "code",
   "execution_count": 24,
   "id": "7c4afe72",
   "metadata": {},
   "outputs": [
    {
     "name": "stdout",
     "output_type": "stream",
     "text": [
      "+-------+-------+-------+-------+\n",
      "|country|avg_mpg|min_mpg|max_mpg|\n",
      "+-------+-------+-------+-------+\n",
      "|     uk|   35.0|   35.0|   35.0|\n",
      "|  japan|  30.45|   18.0|   46.6|\n",
      "|germany|  29.21|   16.5|   44.3|\n",
      "|  italy|  28.91|   24.0|   37.3|\n",
      "| france|  25.32|   16.2|   36.0|\n",
      "| sweden|  22.23|   17.0|   30.7|\n",
      "|     us|  20.03|    9.0|   39.0|\n",
      "+-------+-------+-------+-------+\n",
      "\n"
     ]
    }
   ],
   "source": [
    "#Bullet Point 1\n",
    "#Find average, minimum and maximum mpg for a given country. Sort the results by average mpg descending\n",
    "\n",
    "vehicle.groupBy(\"country\") \\\n",
    "  .agg(\n",
    "        f.avg(f.col('mpg')).alias('avg_mpg'),\n",
    "        f.min(f.col('mpg')).alias('min_mpg'),\n",
    "        f.max(f.col('mpg')).alias('max_mpg'),\n",
    "    ) \\\n",
    "  .orderBy('avg_mpg', ascending=False) \\\n",
    "  .withColumn(\"avg_mpg\", f.round(col('avg_mpg'), 2)) \\\n",
    "  .show()"
   ]
  },
  {
   "cell_type": "code",
   "execution_count": 25,
   "id": "6cdf59ab",
   "metadata": {},
   "outputs": [
    {
     "name": "stdout",
     "output_type": "stream",
     "text": [
      "+---------+-------+-------+-------+\n",
      "|cylinders|avg_mpg|min_mpg|max_mpg|\n",
      "+---------+-------+-------+-------+\n",
      "|        4|  29.28|   18.0|   46.6|\n",
      "|        5|  27.37|   20.3|   36.4|\n",
      "|        3|  20.55|   18.0|   23.7|\n",
      "|        6|  19.97|   15.0|   38.0|\n",
      "|        8|  14.96|    9.0|   26.6|\n",
      "+---------+-------+-------+-------+\n",
      "\n"
     ]
    }
   ],
   "source": [
    "#Bullet Point 2\n",
    "#Find the average, minimum and maximum mpg for a given cylinder. Sort the results by average mpg descending.\n",
    "\n",
    "vehicle.groupBy(\"cylinders\") \\\n",
    "  .agg(\n",
    "        f.avg(f.col('mpg')).alias('avg_mpg'),\n",
    "        f.min(f.col('mpg')).alias('min_mpg'),\n",
    "        f.max(f.col('mpg')).alias('max_mpg'),\n",
    "    ) \\\n",
    "  .orderBy('avg_mpg', ascending=False) \\\n",
    "  .withColumn(\"avg_mpg\", f.round(col('avg_mpg'), 2)) \\\n",
    "  .show()"
   ]
  },
  {
   "cell_type": "code",
   "execution_count": 26,
   "id": "07dfe955",
   "metadata": {},
   "outputs": [
    {
     "name": "stdout",
     "output_type": "stream",
     "text": [
      "+---------+-------+-------+-------+\n",
      "|modelyear|avg_mpg|min_mpg|max_mpg|\n",
      "+---------+-------+-------+-------+\n",
      "|     1980|   33.8|   19.1|   46.6|\n",
      "|     1982|   32.0|   22.0|   44.0|\n",
      "|     1981|  30.19|   17.6|   39.1|\n",
      "|     1979|  25.09|   15.5|   37.3|\n",
      "|     1978|  24.06|   16.2|   43.1|\n",
      "|     1977|  23.38|   15.0|   36.0|\n",
      "|     1974|  22.77|   13.0|   32.0|\n",
      "|     1976|  21.57|   13.0|   33.0|\n",
      "|     1971|  21.11|   12.0|   35.0|\n",
      "|     1975|  20.27|   13.0|   33.0|\n",
      "|     1972|  18.71|   11.0|   28.0|\n",
      "|     1970|  17.69|    9.0|   27.0|\n",
      "|     1973|   17.1|   11.0|   29.0|\n",
      "+---------+-------+-------+-------+\n",
      "\n"
     ]
    }
   ],
   "source": [
    "#Bullet Point 3\n",
    "#Find the average, minimum and maximum mpg for a given model year. Sort the results by average mpg descending.\n",
    "\n",
    "vehicle.groupBy(\"modelyear\") \\\n",
    "  .agg(\n",
    "        f.avg(f.col('mpg')).alias('avg_mpg'),\n",
    "        f.min(f.col('mpg')).alias('min_mpg'),\n",
    "        f.max(f.col('mpg')).alias('max_mpg'),\n",
    "    ) \\\n",
    "  .orderBy('avg_mpg', ascending=False) \\\n",
    "  .withColumn(\"avg_mpg\", f.round(col('avg_mpg'), 2)) \\\n",
    "  .show()"
   ]
  },
  {
   "cell_type": "code",
   "execution_count": 27,
   "id": "0213668a",
   "metadata": {},
   "outputs": [
    {
     "name": "stdout",
     "output_type": "stream",
     "text": [
      "+------------+-------+-------+-------+\n",
      "|manufacturer|avg_mpg|min_mpg|max_mpg|\n",
      "+------------+-------+-------+-------+\n",
      "|          vw|  39.02|   29.0|   44.3|\n",
      "|      nissan|   36.0|   36.0|   36.0|\n",
      "|     triumph|   35.0|   35.0|   35.0|\n",
      "|       honda|  33.76|   24.0|   44.6|\n",
      "|      datsun|  31.11|   22.0|   40.8|\n",
      "|       mazda|  30.86|   19.0|   46.6|\n",
      "|      subaru|  30.53|   26.0|   33.8|\n",
      "|   vokswagen|   29.8|   29.8|   29.8|\n",
      "|     renault|  29.67|   26.0|   36.0|\n",
      "|  volkswagen|  29.11|   22.0|   43.1|\n",
      "|        fiat|  28.91|   24.0|   37.3|\n",
      "|      toyota|  28.37|   19.0|   39.1|\n",
      "|        audi|  26.71|   20.0|   36.4|\n",
      "|       maxda|  26.05|   18.0|   34.1|\n",
      "|        opel|  25.75|   24.0|   28.0|\n",
      "|    mercedes|   25.4|   25.4|   25.4|\n",
      "|       capri|   25.0|   25.0|   25.0|\n",
      "|        saab|   23.9|   21.6|   25.0|\n",
      "|         bmw|  23.75|   21.5|   26.0|\n",
      "|     peugeot|  23.69|   16.2|   30.0|\n",
      "+------------+-------+-------+-------+\n",
      "only showing top 20 rows\n",
      "\n"
     ]
    }
   ],
   "source": [
    "#Bullet Point 4\n",
    "#Find the average, minimum and maximum mpg for a given manufacturer. Sort the results by average mpg descending.\n",
    "\n",
    "vehicle.groupBy(\"manufacturer\") \\\n",
    "  .agg(\n",
    "        f.avg(f.col('mpg')).alias('avg_mpg'),\n",
    "        f.min(f.col('mpg')).alias('min_mpg'),\n",
    "        f.max(f.col('mpg')).alias('max_mpg'),\n",
    "    ) \\\n",
    "  .orderBy('avg_mpg', ascending=False) \\\n",
    "  .withColumn(\"avg_mpg\", f.round(col('avg_mpg'), 2)) \\\n",
    "  .show()"
   ]
  },
  {
   "cell_type": "code",
   "execution_count": 28,
   "id": "58260ce9",
   "metadata": {},
   "outputs": [
    {
     "name": "stdout",
     "output_type": "stream",
     "text": [
      "+------------+--------------------+-------+\n",
      "|manufacturer|             carname|avg_mpg|\n",
      "+------------+--------------------+-------+\n",
      "|       mazda|           mazda glc|   46.6|\n",
      "|       honda| honda civic 1500 gl|   44.6|\n",
      "|          vw|vw rabbit c (diesel)|   44.3|\n",
      "|          vw|           vw pickup|   44.0|\n",
      "|          vw|  vw dasher (diesel)|   43.4|\n",
      "|  volkswagen|volkswagen rabbit...|   43.1|\n",
      "|      datsun|      datsun b210 gx|   39.4|\n",
      "|      toyota|      toyota starlet|   39.1|\n",
      "|    plymouth|      plymouth champ|   39.0|\n",
      "|      toyota|toyota corolla te...|   38.1|\n",
      "|    plymouth|plymouth horizon ...|   38.0|\n",
      "|      datsun|       datsun 310 gx|   38.0|\n",
      "|  oldsmobile|oldsmobile cutlas...|   38.0|\n",
      "|      toyota|       toyota tercel|   37.7|\n",
      "|        fiat|  fiat strada custom|   37.3|\n",
      "|      datsun|          datsun 310|   37.2|\n",
      "|      datsun|      datsun 210 mpg|   37.0|\n",
      "|       mazda|  mazda glc custom l|   37.0|\n",
      "|      datsun|datsun 510 hatchback|   37.0|\n",
      "|        audi| audi 5000s (diesel)|   36.4|\n",
      "+------------+--------------------+-------+\n",
      "only showing top 20 rows\n",
      "\n"
     ]
    }
   ],
   "source": [
    "#Bullet Point 5\n",
    "#Find the average mpg for a given car name and manufacturer. Sort the results by average mpg descending.\n",
    "\n",
    "vehicle.groupBy(\"manufacturer\",\"carname\") \\\n",
    "  .agg(f.avg(f.col('mpg')).alias('avg_mpg')) \\\n",
    "  .orderBy('avg_mpg', ascending=False) \\\n",
    "  .withColumn(\"avg_mpg\", f.round(col('avg_mpg'), 2)) \\\n",
    "  .show()"
   ]
  },
  {
   "cell_type": "markdown",
   "id": "1cac5284",
   "metadata": {},
   "source": [
    "## 3f"
   ]
  },
  {
   "cell_type": "code",
   "execution_count": 29,
   "id": "8f142868",
   "metadata": {},
   "outputs": [],
   "source": [
    "vehicle.createOrReplaceTempView(\"vehicle\")"
   ]
  },
  {
   "cell_type": "code",
   "execution_count": 31,
   "id": "c54d730c",
   "metadata": {},
   "outputs": [
    {
     "name": "stdout",
     "output_type": "stream",
     "text": [
      "+-------+-----------+-------+-------+\n",
      "|country|average_mpg|min_mpg|max_mpg|\n",
      "+-------+-----------+-------+-------+\n",
      "|     uk|       35.0|   35.0|   35.0|\n",
      "|  japan|      30.45|   18.0|   46.6|\n",
      "|germany|      29.21|   16.5|   44.3|\n",
      "|  italy|      28.91|   24.0|   37.3|\n",
      "| france|      25.32|   16.2|   36.0|\n",
      "| sweden|      22.23|   17.0|   30.7|\n",
      "|     us|      20.03|    9.0|   39.0|\n",
      "+-------+-----------+-------+-------+\n",
      "\n"
     ]
    }
   ],
   "source": [
    "#Qn 3e Bullet Point 1\n",
    "#Find average, minimum and maximum mpg for a given country. Sort the results by average mpg descending\n",
    "\n",
    "spark.sql(\"\"\"\n",
    "SELECT country, ROUND(AVG(mpg), 2) AS average_mpg, MIN(mpg) AS min_mpg, MAX(mpg) AS max_mpg\n",
    "FROM vehicle\n",
    "GROUP BY country\n",
    "ORDER BY average_mpg DESC\n",
    "\"\"\").show()"
   ]
  },
  {
   "cell_type": "code",
   "execution_count": 32,
   "id": "efd57515",
   "metadata": {},
   "outputs": [
    {
     "name": "stdout",
     "output_type": "stream",
     "text": [
      "+---------+-----------+-------+-------+\n",
      "|cylinders|average_mpg|min_mpg|max_mpg|\n",
      "+---------+-----------+-------+-------+\n",
      "|        4|      29.28|   18.0|   46.6|\n",
      "|        5|      27.37|   20.3|   36.4|\n",
      "|        3|      20.55|   18.0|   23.7|\n",
      "|        6|      19.97|   15.0|   38.0|\n",
      "|        8|      14.96|    9.0|   26.6|\n",
      "+---------+-----------+-------+-------+\n",
      "\n"
     ]
    }
   ],
   "source": [
    "#Qn 3e Bullet Point 2\n",
    "#Find the average, minimum and maximum mpg for a given cylinder. Sort the results by average mpg descending.\n",
    "\n",
    "spark.sql(\"\"\"\n",
    "SELECT cylinders, ROUND(AVG(mpg), 2) AS average_mpg, MIN(mpg) AS min_mpg, MAX(mpg) AS max_mpg\n",
    "FROM vehicle\n",
    "GROUP BY cylinders\n",
    "ORDER BY average_mpg DESC\n",
    "\"\"\").show()"
   ]
  },
  {
   "cell_type": "code",
   "execution_count": 33,
   "id": "82df1bc4",
   "metadata": {},
   "outputs": [
    {
     "name": "stdout",
     "output_type": "stream",
     "text": [
      "+---------+-----------+-------+-------+\n",
      "|modelyear|average_mpg|min_mpg|max_mpg|\n",
      "+---------+-----------+-------+-------+\n",
      "|     1980|       33.8|   19.1|   46.6|\n",
      "|     1982|       32.0|   22.0|   44.0|\n",
      "|     1981|      30.19|   17.6|   39.1|\n",
      "|     1979|      25.09|   15.5|   37.3|\n",
      "|     1978|      24.06|   16.2|   43.1|\n",
      "|     1977|      23.38|   15.0|   36.0|\n",
      "|     1974|      22.77|   13.0|   32.0|\n",
      "|     1976|      21.57|   13.0|   33.0|\n",
      "|     1971|      21.11|   12.0|   35.0|\n",
      "|     1975|      20.27|   13.0|   33.0|\n",
      "|     1972|      18.71|   11.0|   28.0|\n",
      "|     1970|      17.69|    9.0|   27.0|\n",
      "|     1973|       17.1|   11.0|   29.0|\n",
      "+---------+-----------+-------+-------+\n",
      "\n"
     ]
    }
   ],
   "source": [
    "#Qn 3e Bullet Point 3\n",
    "#Find the average, minimum and maximum mpg for a given model year. Sort the results by average mpg descending.\n",
    "\n",
    "spark.sql(\"\"\"\n",
    "SELECT modelyear, ROUND(AVG(mpg), 2) AS average_mpg, MIN(mpg) AS min_mpg, MAX(mpg) AS max_mpg\n",
    "FROM vehicle\n",
    "GROUP BY modelyear\n",
    "ORDER BY average_mpg DESC\n",
    "\"\"\").show()"
   ]
  },
  {
   "cell_type": "code",
   "execution_count": 34,
   "id": "043fc488",
   "metadata": {},
   "outputs": [
    {
     "name": "stdout",
     "output_type": "stream",
     "text": [
      "+------------+-----------+-------+-------+\n",
      "|manufacturer|average_mpg|min_mpg|max_mpg|\n",
      "+------------+-----------+-------+-------+\n",
      "|          vw|      39.02|   29.0|   44.3|\n",
      "|      nissan|       36.0|   36.0|   36.0|\n",
      "|     triumph|       35.0|   35.0|   35.0|\n",
      "|       honda|      33.76|   24.0|   44.6|\n",
      "|      datsun|      31.11|   22.0|   40.8|\n",
      "|       mazda|      30.86|   19.0|   46.6|\n",
      "|      subaru|      30.53|   26.0|   33.8|\n",
      "|   vokswagen|       29.8|   29.8|   29.8|\n",
      "|     renault|      29.67|   26.0|   36.0|\n",
      "|  volkswagen|      29.11|   22.0|   43.1|\n",
      "|        fiat|      28.91|   24.0|   37.3|\n",
      "|      toyota|      28.37|   19.0|   39.1|\n",
      "|        audi|      26.71|   20.0|   36.4|\n",
      "|       maxda|      26.05|   18.0|   34.1|\n",
      "|        opel|      25.75|   24.0|   28.0|\n",
      "|    mercedes|       25.4|   25.4|   25.4|\n",
      "|       capri|       25.0|   25.0|   25.0|\n",
      "|        saab|       23.9|   21.6|   25.0|\n",
      "|         bmw|      23.75|   21.5|   26.0|\n",
      "|     peugeot|      23.69|   16.2|   30.0|\n",
      "+------------+-----------+-------+-------+\n",
      "only showing top 20 rows\n",
      "\n"
     ]
    }
   ],
   "source": [
    "#Qn 3e Bullet Point 4\n",
    "#Find the average, minimum and maximum mpg for a given manufacturer. Sort the results by average mpg descending.\n",
    "\n",
    "spark.sql(\"\"\"\n",
    "SELECT manufacturer, ROUND(AVG(mpg), 2) AS average_mpg, MIN(mpg) AS min_mpg, MAX(mpg) AS max_mpg\n",
    "FROM vehicle\n",
    "GROUP BY manufacturer\n",
    "ORDER BY average_mpg DESC\n",
    "\"\"\").show()"
   ]
  },
  {
   "cell_type": "code",
   "execution_count": 35,
   "id": "69da5203",
   "metadata": {},
   "outputs": [
    {
     "name": "stdout",
     "output_type": "stream",
     "text": [
      "+------------+--------------------+-----------+\n",
      "|manufacturer|             carname|average_mpg|\n",
      "+------------+--------------------+-----------+\n",
      "|       mazda|           mazda glc|       46.6|\n",
      "|       honda| honda civic 1500 gl|       44.6|\n",
      "|          vw|vw rabbit c (diesel)|       44.3|\n",
      "|          vw|           vw pickup|       44.0|\n",
      "|          vw|  vw dasher (diesel)|       43.4|\n",
      "|  volkswagen|volkswagen rabbit...|       43.1|\n",
      "|      datsun|      datsun b210 gx|       39.4|\n",
      "|      toyota|      toyota starlet|       39.1|\n",
      "|    plymouth|      plymouth champ|       39.0|\n",
      "|      toyota|toyota corolla te...|       38.1|\n",
      "|    plymouth|plymouth horizon ...|       38.0|\n",
      "|      datsun|       datsun 310 gx|       38.0|\n",
      "|  oldsmobile|oldsmobile cutlas...|       38.0|\n",
      "|      toyota|       toyota tercel|       37.7|\n",
      "|        fiat|  fiat strada custom|       37.3|\n",
      "|      datsun|          datsun 310|       37.2|\n",
      "|      datsun|      datsun 210 mpg|       37.0|\n",
      "|       mazda|  mazda glc custom l|       37.0|\n",
      "|      datsun|datsun 510 hatchback|       37.0|\n",
      "|        audi| audi 5000s (diesel)|       36.4|\n",
      "+------------+--------------------+-----------+\n",
      "only showing top 20 rows\n",
      "\n"
     ]
    }
   ],
   "source": [
    "#Qn 3e Bullet Point 5\n",
    "#Find the average mpg for a given car name and manufacturer. Sort the results by average mpg descending.\n",
    "\n",
    "spark.sql(\"\"\"\n",
    "SELECT manufacturer, carname, ROUND(AVG(mpg), 2) AS average_mpg\n",
    "FROM vehicle\n",
    "GROUP BY manufacturer,carname\n",
    "ORDER BY average_mpg DESC\n",
    "\"\"\").show()"
   ]
  },
  {
   "cell_type": "code",
   "execution_count": 36,
   "id": "65f99d0e",
   "metadata": {},
   "outputs": [],
   "source": [
    "#Stop Spark Session\n",
    "spark.stop()"
   ]
  },
  {
   "cell_type": "code",
   "execution_count": null,
   "id": "0dec558f",
   "metadata": {},
   "outputs": [],
   "source": []
  }
 ],
 "metadata": {
  "kernelspec": {
   "display_name": "Python 3 (ipykernel)",
   "language": "python",
   "name": "python3"
  },
  "language_info": {
   "codemirror_mode": {
    "name": "ipython",
    "version": 3
   },
   "file_extension": ".py",
   "mimetype": "text/x-python",
   "name": "python",
   "nbconvert_exporter": "python",
   "pygments_lexer": "ipython3",
   "version": "3.11.5"
  }
 },
 "nbformat": 4,
 "nbformat_minor": 5
}
