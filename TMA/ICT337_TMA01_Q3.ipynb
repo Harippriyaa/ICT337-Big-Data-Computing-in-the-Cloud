{
 "cells": [
  {
   "cell_type": "markdown",
   "id": "6e395171",
   "metadata": {},
   "source": [
    "## 3a)"
   ]
  },
  {
   "cell_type": "code",
   "execution_count": 1,
   "id": "422e40e6",
   "metadata": {},
   "outputs": [],
   "source": [
    "#Import libraries\n",
    "from pyspark.sql import SparkSession\n",
    "from pyspark.sql import functions as f\n",
    "from pyspark.sql.functions import *\n",
    "from functools import reduce"
   ]
  },
  {
   "cell_type": "code",
   "execution_count": 2,
   "id": "0633ffcf",
   "metadata": {},
   "outputs": [
    {
     "name": "stderr",
     "output_type": "stream",
     "text": [
      "Setting default log level to \"WARN\".\n",
      "To adjust logging level use sc.setLogLevel(newLevel). For SparkR, use setLogLevel(newLevel).\n",
      "23/10/18 14:00:14 WARN NativeCodeLoader: Unable to load native-hadoop library for your platform... using builtin-java classes where applicable\n",
      "23/10/18 14:00:14 WARN Utils: Service 'SparkUI' could not bind on port 4040. Attempting port 4041.\n"
     ]
    }
   ],
   "source": [
    "#Start spark session\n",
    "spark = SparkSession \\\n",
    "    .builder \\\n",
    "    .appName(\"ICT330 TMA Q3\") \\\n",
    "    .config(\"spark.some.config.option\", \"some-value\") \\\n",
    "    .getOrCreate()"
   ]
  },
  {
   "cell_type": "code",
   "execution_count": 3,
   "id": "867bce19",
   "metadata": {},
   "outputs": [],
   "source": [
    "#Read csv file and store into dataframe\n",
    "flights_data = spark\\\n",
    ".read\\\n",
    ".option(\"inferSchema\", \"true\")\\\n",
    ".option(\"header\", \"true\")\\\n",
    ".csv (\"flights_data_v2.csv\")"
   ]
  },
  {
   "cell_type": "code",
   "execution_count": 4,
   "id": "28ce2b0e",
   "metadata": {},
   "outputs": [
    {
     "name": "stdout",
     "output_type": "stream",
     "text": [
      "<class 'pyspark.sql.dataframe.DataFrame'>\n"
     ]
    }
   ],
   "source": [
    "#Show the type of flights_data to check if its a dataframe\n",
    "print(type(flights_data))"
   ]
  },
  {
   "cell_type": "code",
   "execution_count": 5,
   "id": "bee401b1",
   "metadata": {},
   "outputs": [
    {
     "name": "stdout",
     "output_type": "stream",
     "text": [
      "+----+-----+---+--------+---------+--------+---------+-------+-------+------+------+----+--------+--------+----+------+\n",
      "|year|month|day|dep_time|dep_delay|arr_time|arr_delay|carrier|tailnum|flight|origin|dest|air_time|distance|hour|minute|\n",
      "+----+-----+---+--------+---------+--------+---------+-------+-------+------+------+----+--------+--------+----+------+\n",
      "|2014|   12|  8|     658|       -7|     935|       -5|     VX| N846VA|  1780|   SEA| LAX|     132|     954|   6|    58|\n",
      "|2014|    1| 22|    1040|        5|    1505|        5|     AS| N559AS|   851|   SEA| HNL|     360|    2677|  10|    40|\n",
      "|2014|    3|  9|    1443|       -2|    1652|        2|     VX| N847VA|   755|   SEA| SFO|     111|     679|  14|    43|\n",
      "|2014|    4|  9|    1705|       45|    1839|       34|     WN| N360SW|   344|   PDX| SJC|      83|     569|  17|     5|\n",
      "|2014|    3|  9|     754|       -1|    1015|        1|     AS| N612AS|   522|   SEA| BUR|     127|     937|   7|    54|\n",
      "|2014|    1| 15|    1037|        7|    1352|        2|     WN| N646SW|    48|   PDX| DEN|     121|     991|  10|    37|\n",
      "|2014|    7|  2|     847|       42|    1041|       51|     WN| N422WN|  1520|   PDX| OAK|      90|     543|   8|    47|\n",
      "|2014|    5| 12|    1655|       -5|    1842|      -18|     VX| N361VA|   755|   SEA| SFO|      98|     679|  16|    55|\n",
      "|2014|    4| 19|    1236|       -4|    1508|       -7|     AS| N309AS|   490|   SEA| SAN|     135|    1050|  12|    36|\n",
      "|2014|   11| 19|    1812|       -3|    2352|       -4|     AS| N564AS|    26|   SEA| ORD|     198|    1721|  18|    12|\n",
      "|2014|   11|  8|    1653|       -2|    1924|       -1|     AS| N323AS|   448|   SEA| LAX|     130|     954|  16|    53|\n",
      "|2014|    8|  3|    1120|        0|    1415|        2|     AS| N305AS|   656|   SEA| PHX|     154|    1107|  11|    20|\n",
      "|2014|   10| 30|     811|       21|    1038|       29|     AS| N433AS|   608|   SEA| LAS|     127|     867|   8|    11|\n",
      "|2014|   11| 12|    2346|       -4|     217|      -28|     AS| N765AS|   121|   SEA| ANC|     183|    1448|  23|    46|\n",
      "|2014|   10| 31|    1314|       89|    1544|      111|     AS| N713AS|   306|   SEA| SFO|     129|     679|  13|    14|\n",
      "|2014|    1| 29|    2009|        3|    2159|        9|     UA| N27205|  1458|   PDX| SFO|      90|     550|  20|     9|\n",
      "|2014|   12| 17|    2015|       50|    2150|       41|     AS| N626AS|   368|   SEA| SMF|      76|     605|  20|    15|\n",
      "|2014|    8| 11|    1017|       -3|    1613|       -7|     WN| N8634A|   827|   SEA| MDW|     216|    1733|  10|    17|\n",
      "|2014|    1| 13|    2156|       -9|     607|      -15|     AS| N597AS|    24|   SEA| BOS|     290|    2496|  21|    56|\n",
      "|2014|    6|  5|    1733|      -12|    1945|      -10|     OO| N215AG|  3488|   PDX| BUR|     111|     817|  17|    33|\n",
      "+----+-----+---+--------+---------+--------+---------+-------+-------+------+------+----+--------+--------+----+------+\n",
      "only showing top 20 rows\n",
      "\n"
     ]
    }
   ],
   "source": [
    "#Show the content of flights_data\n",
    "flights_data.show()"
   ]
  },
  {
   "cell_type": "code",
   "execution_count": 6,
   "id": "f13e8d6c",
   "metadata": {},
   "outputs": [
    {
     "data": {
      "text/plain": [
       "10000"
      ]
     },
     "execution_count": 6,
     "metadata": {},
     "output_type": "execute_result"
    }
   ],
   "source": [
    "#Show the number of occurences \n",
    "flights_data.count()"
   ]
  },
  {
   "cell_type": "code",
   "execution_count": 7,
   "id": "9e4a4219",
   "metadata": {},
   "outputs": [
    {
     "name": "stdout",
     "output_type": "stream",
     "text": [
      "root\n",
      " |-- year: integer (nullable = true)\n",
      " |-- month: integer (nullable = true)\n",
      " |-- day: integer (nullable = true)\n",
      " |-- dep_time: integer (nullable = true)\n",
      " |-- dep_delay: integer (nullable = true)\n",
      " |-- arr_time: integer (nullable = true)\n",
      " |-- arr_delay: integer (nullable = true)\n",
      " |-- carrier: string (nullable = true)\n",
      " |-- tailnum: string (nullable = true)\n",
      " |-- flight: integer (nullable = true)\n",
      " |-- origin: string (nullable = true)\n",
      " |-- dest: string (nullable = true)\n",
      " |-- air_time: integer (nullable = true)\n",
      " |-- distance: integer (nullable = true)\n",
      " |-- hour: integer (nullable = true)\n",
      " |-- minute: integer (nullable = true)\n",
      "\n"
     ]
    }
   ],
   "source": [
    "#Show the schema\n",
    "flights_data.printSchema()"
   ]
  },
  {
   "cell_type": "code",
   "execution_count": 8,
   "id": "3758b435",
   "metadata": {},
   "outputs": [
    {
     "name": "stdout",
     "output_type": "stream",
     "text": [
      "+----+-----+---+--------+---------+--------+---------+-------+-------+------+------+----+--------+--------+----+------+\n",
      "|year|month|day|dep_time|dep_delay|arr_time|arr_delay|carrier|tailnum|flight|origin|dest|air_time|distance|hour|minute|\n",
      "+----+-----+---+--------+---------+--------+---------+-------+-------+------+------+----+--------+--------+----+------+\n",
      "|2014|    4|  6|    1329|        4|    2159|     null|     DL| N130DL|  1929|   SEA| ATL|    null|    2182|  13|    29|\n",
      "|2014|    3|  4|    null|     null|    null|     null|     UA|   null|   156|   SEA| DEN|    null|    1024|null|  null|\n",
      "|2014|    2| 12|    null|     null|    null|     null|     AS| N527AS|     2|   SEA| DCA|    null|    2329|null|  null|\n",
      "|2014|    7|  1|    null|     null|    null|     null|     WN| N8323C|  2485|   SEA| MDW|    null|    1733|null|  null|\n",
      "|2014|   12| 27|    1420|       40|    2012|     null|     OO| N224AG|  3452|   SEA| HDN|    null|     891|  14|    20|\n",
      "|2014|    4| 30|    null|     null|    null|     null|     AS| N526AS|   566|   PDX| LAX|    null|     834|null|  null|\n",
      "|2014|    1|  3|    null|     null|    null|     null|     US|   null|   553|   SEA| PHL|    null|    2378|null|  null|\n",
      "|2014|    6| 11|    1054|       -9|    1624|     null|     OO| N926SW|  5576|   PDX| DEN|    null|     991|  10|    54|\n",
      "|2014|    8|  7|    null|     null|    null|     null|     AS| N579AS|   867|   SEA| OGG|    null|    2640|null|  null|\n",
      "|2014|    8| 11|    null|     null|    null|     null|     OO| N689CA|  4528|   PDX| SEA|    null|     129|null|  null|\n",
      "|2014|    2|  6|    2238|        8|    null|     null|     OO| N297SW|  5437|   PDX| LMT|    null|     241|  22|    38|\n",
      "|2014|    1|  2|    null|     null|    null|     null|     UA|   null|   212|   SEA| EWR|    null|    2402|null|  null|\n",
      "|2014|    5| 15|    null|     null|    null|     null|     OO| N917SW|  6250|   PDX| LAX|    null|     834|null|  null|\n",
      "|2014|    2|  7|    null|     null|    null|     null|     OO| N594SW|  5553|   PDX| SFO|    null|     550|null|  null|\n",
      "|2014|    4| 15|     652|       -8|    1754|     null|     DL| N378DA|   400|   PDX| JFK|    null|    2454|   6|    52|\n",
      "|2014|    6|  6|    null|     null|    null|     null|     WN| N645SW|   956|   PDX| OAK|    null|     543|null|  null|\n",
      "|2014|    1|  5|    null|     null|    null|     null|     UA|   null|   758|   PDX| IAH|    null|    1825|null|  null|\n",
      "|2014|    1|  6|    null|     null|    null|     null|     UA|   null|  1729|   SEA| DEN|    null|    1024|null|  null|\n",
      "|2014|    3| 30|    null|     null|    null|     null|     US|   null|   500|   SEA| PHX|    null|    1107|null|  null|\n",
      "|2014|    5| 24|    1455|       55|    2212|     null|     UA| N37409|  1635|   SEA| IAH|    null|    1874|  14|    55|\n",
      "+----+-----+---+--------+---------+--------+---------+-------+-------+------+------+----+--------+--------+----+------+\n",
      "only showing top 20 rows\n",
      "\n"
     ]
    }
   ],
   "source": [
    "#Display rows with missing values \n",
    "rows_with_missing_data = flights_data.where(reduce(lambda x, y: x | y, (f.col(x).isNull() for x in flights_data.columns)))\n",
    "rows_with_missing_data.show()"
   ]
  },
  {
   "cell_type": "code",
   "execution_count": 9,
   "id": "b405651a",
   "metadata": {},
   "outputs": [
    {
     "data": {
      "text/plain": [
       "75"
      ]
     },
     "execution_count": 9,
     "metadata": {},
     "output_type": "execute_result"
    }
   ],
   "source": [
    "#Display the count of missing values\n",
    "rows_with_missing_data.count()"
   ]
  },
  {
   "cell_type": "code",
   "execution_count": 10,
   "id": "e9242d5f",
   "metadata": {},
   "outputs": [
    {
     "name": "stdout",
     "output_type": "stream",
     "text": [
      "Original DataFrame Count: 10000\n",
      "Cleaned DataFrame Count: 9925\n"
     ]
    }
   ],
   "source": [
    "#Drop missing values \n",
    "flights_data_new = flights_data.na.drop()\n",
    "\n",
    "#Show the count of rows in the original and cleaned DataFrames\n",
    "print(\"Original DataFrame Count:\", flights_data.count())\n",
    "print(\"Cleaned DataFrame Count:\", flights_data_new.count())"
   ]
  },
  {
   "cell_type": "markdown",
   "id": "fd91a7d1",
   "metadata": {},
   "source": [
    "## 3b)"
   ]
  },
  {
   "cell_type": "code",
   "execution_count": 11,
   "id": "5bec30c2",
   "metadata": {},
   "outputs": [
    {
     "name": "stdout",
     "output_type": "stream",
     "text": [
      "+----+-----+-----+\n",
      "|year|month|count|\n",
      "+----+-----+-----+\n",
      "|2014|    8| 1058|\n",
      "|2014|    7|  973|\n",
      "|2014|    6|  883|\n",
      "|2014|    5|  840|\n",
      "|2014|    9|  833|\n",
      "|2014|   10|  811|\n",
      "|2014|    4|  810|\n",
      "|2014|   12|  799|\n",
      "|2014|    3|  787|\n",
      "|2014|   11|  777|\n",
      "|2014|    1|  732|\n",
      "|2014|    2|  622|\n",
      "+----+-----+-----+\n",
      "\n"
     ]
    }
   ],
   "source": [
    "#Find no. of flights per year,month and rank in descending order\n",
    "flights_data_new.groupBy(\"year\",\"month\").count().sort(desc(\"count\")).show()"
   ]
  },
  {
   "cell_type": "code",
   "execution_count": 12,
   "id": "f51b973e",
   "metadata": {},
   "outputs": [
    {
     "name": "stdout",
     "output_type": "stream",
     "text": [
      "+---+-----+\n",
      "|day|count|\n",
      "+---+-----+\n",
      "|1  |358  |\n",
      "|3  |356  |\n",
      "|28 |349  |\n",
      "|17 |349  |\n",
      "|15 |345  |\n",
      "|9  |345  |\n",
      "|2  |345  |\n",
      "|21 |339  |\n",
      "|30 |339  |\n",
      "|10 |337  |\n",
      "|14 |329  |\n",
      "|5  |328  |\n",
      "|6  |326  |\n",
      "|18 |324  |\n",
      "|29 |323  |\n",
      "|22 |322  |\n",
      "|27 |321  |\n",
      "|23 |321  |\n",
      "|7  |320  |\n",
      "|26 |315  |\n",
      "|16 |314  |\n",
      "|24 |313  |\n",
      "|13 |312  |\n",
      "|12 |310  |\n",
      "|19 |309  |\n",
      "|25 |309  |\n",
      "|8  |305  |\n",
      "|20 |301  |\n",
      "|4  |293  |\n",
      "|11 |291  |\n",
      "|31 |177  |\n",
      "+---+-----+\n",
      "\n"
     ]
    }
   ],
   "source": [
    "#Find no. of flights per day and rank in descending order\n",
    "flights_per_day_count = flights_data_new.groupBy(\"day\").count()\n",
    "flights_data_new.groupBy(\"day\").count().sort(desc(\"count\")).show(flights_per_day_count.count(),False)"
   ]
  },
  {
   "cell_type": "code",
   "execution_count": 13,
   "id": "2764c022",
   "metadata": {},
   "outputs": [
    {
     "name": "stdout",
     "output_type": "stream",
     "text": [
      "+-------+-----+----------+\n",
      "|carrier|count|percentage|\n",
      "+-------+-----+----------+\n",
      "|     AS| 3771|     37.99|\n",
      "|     WN| 1384|     13.94|\n",
      "|     OO| 1163|     11.72|\n",
      "|     DL| 1077|     10.85|\n",
      "|     UA| 1039|     10.47|\n",
      "|     AA|  476|       4.8|\n",
      "|     US|  364|      3.67|\n",
      "|     B6|  213|      2.15|\n",
      "|     VX|  186|      1.87|\n",
      "|     F9|  181|      1.82|\n",
      "|     HA|   71|      0.72|\n",
      "+-------+-----+----------+\n",
      "\n"
     ]
    }
   ],
   "source": [
    "#Find no. of flights per carrier, compute percentage and rank in descending order\n",
    "flights_data_new.groupBy(\"carrier\") \\\n",
    "  .count() \\\n",
    "  .withColumn('percentage', (f.col('count') / flights_data_new.count()) * 100 ) \\\n",
    "  .withColumn(\"percentage\", f.round('percentage', 2)) \\\n",
    "  .sort(desc(\"count\")) \\\n",
    "  .show()"
   ]
  },
  {
   "cell_type": "code",
   "execution_count": 14,
   "id": "a3cb17d1",
   "metadata": {},
   "outputs": [
    {
     "name": "stdout",
     "output_type": "stream",
     "text": [
      "+------+-----+\n",
      "|origin|count|\n",
      "+------+-----+\n",
      "|   SEA| 6711|\n",
      "|   PDX| 3214|\n",
      "+------+-----+\n",
      "\n",
      "+----+-----+\n",
      "|dest|count|\n",
      "+----+-----+\n",
      "|SFO |779  |\n",
      "|LAX |611  |\n",
      "|DEN |580  |\n",
      "|PHX |526  |\n",
      "|LAS |520  |\n",
      "|ANC |449  |\n",
      "|ORD |431  |\n",
      "|SLC |396  |\n",
      "|SJC |369  |\n",
      "|DFW |369  |\n",
      "|OAK |333  |\n",
      "|SMF |283  |\n",
      "|SAN |269  |\n",
      "|ATL |256  |\n",
      "|MSP |238  |\n",
      "|IAH |223  |\n",
      "|SNA |197  |\n",
      "|LGB |174  |\n",
      "|JFK |170  |\n",
      "|PDX |154  |\n",
      "|HNL |142  |\n",
      "|EWR |142  |\n",
      "|SEA |138  |\n",
      "|BUR |137  |\n",
      "|BOS |128  |\n",
      "|ONT |128  |\n",
      "|DTW |123  |\n",
      "|GEG |105  |\n",
      "|IAD |92   |\n",
      "|OGG |89   |\n",
      "|MDW |82   |\n",
      "|FAI |80   |\n",
      "|PHL |80   |\n",
      "|CLT |78   |\n",
      "|KTN |76   |\n",
      "|JNU |76   |\n",
      "|DCA |68   |\n",
      "|ABQ |57   |\n",
      "|RDM |54   |\n",
      "|KOA |52   |\n",
      "|TUS |50   |\n",
      "|PSP |47   |\n",
      "|FAT |47   |\n",
      "|SBA |46   |\n",
      "|MCI |45   |\n",
      "|EUG |39   |\n",
      "|LIH |37   |\n",
      "|BWI |34   |\n",
      "|AUS |31   |\n",
      "|MCO |31   |\n",
      "|FLL |29   |\n",
      "|COS |26   |\n",
      "|OMA |25   |\n",
      "|STL |24   |\n",
      "|HOU |22   |\n",
      "|RNO |21   |\n",
      "|MIA |19   |\n",
      "|SAT |18   |\n",
      "|MKE |16   |\n",
      "|TPA |11   |\n",
      "|MSY |9    |\n",
      "|BNA |9    |\n",
      "|BOI |7    |\n",
      "|LMT |7    |\n",
      "|SIT |6    |\n",
      "|CVG |5    |\n",
      "|BLI |5    |\n",
      "|HDN |3    |\n",
      "|CLE |2    |\n",
      "+----+-----+\n",
      "\n"
     ]
    }
   ],
   "source": [
    "#Compute no.of flights from origin airports and rank in descending order\n",
    "flights_data_new.groupBy(\"origin\").count().sort(desc(\"count\")).show()\n",
    "\n",
    "#Compute no. of flights from destination airports and rank in descending order\n",
    "flights_count = flights_data_new.groupBy(\"dest\").count()\n",
    "flights_data_new.groupBy(\"dest\").count().sort(desc(\"count\")).show(flights_count.count(),False)"
   ]
  },
  {
   "cell_type": "code",
   "execution_count": 15,
   "id": "311b2600",
   "metadata": {},
   "outputs": [
    {
     "name": "stdout",
     "output_type": "stream",
     "text": [
      "+-------+-----+\n",
      "|tailnum|count|\n",
      "+-------+-----+\n",
      "| N612AS|   50|\n",
      "| N219AG|   50|\n",
      "| N224AG|   49|\n",
      "| N218AG|   49|\n",
      "| N223AG|   49|\n",
      "| N611AS|   46|\n",
      "| N607AS|   45|\n",
      "| N225AG|   45|\n",
      "| N435AS|   45|\n",
      "| N615AS|   44|\n",
      "+-------+-----+\n",
      "\n"
     ]
    }
   ],
   "source": [
    "#Find top 10 planes that made the most flights\n",
    "flights_data_new.groupBy(\"tailnum\") \\\n",
    "  .count() \\\n",
    "  .sort(desc(\"count\")) \\\n",
    "  .limit(10) \\\n",
    "  .show()"
   ]
  },
  {
   "cell_type": "markdown",
   "id": "2973cbca",
   "metadata": {},
   "source": [
    "## 3c) "
   ]
  },
  {
   "cell_type": "code",
   "execution_count": 16,
   "id": "fb8cff97",
   "metadata": {},
   "outputs": [
    {
     "name": "stdout",
     "output_type": "stream",
     "text": [
      "+----+-----+\n",
      "|hour|count|\n",
      "+----+-----+\n",
      "|6   |896  |\n",
      "|10  |802  |\n",
      "|11  |721  |\n",
      "|7   |708  |\n",
      "|8   |658  |\n",
      "|13  |649  |\n",
      "|18  |568  |\n",
      "|12  |539  |\n",
      "|14  |538  |\n",
      "|15  |465  |\n",
      "|9   |454  |\n",
      "|5   |430  |\n",
      "|19  |409  |\n",
      "|17  |394  |\n",
      "|16  |388  |\n",
      "|20  |354  |\n",
      "|22  |310  |\n",
      "|21  |281  |\n",
      "|23  |250  |\n",
      "|0   |89   |\n",
      "|1   |17   |\n",
      "|2   |4    |\n",
      "|24  |1    |\n",
      "+----+-----+\n",
      "\n"
     ]
    }
   ],
   "source": [
    "#Compute no. of flight departures per hour and rank in descending order\n",
    "flights_per_hour = flights_data_new.groupBy(\"hour\").count()\n",
    "flights_data_new.groupBy(\"hour\").count().sort(desc(\"count\")).show(flights_per_hour.count(),False)"
   ]
  },
  {
   "cell_type": "code",
   "execution_count": 17,
   "id": "2c208be7",
   "metadata": {},
   "outputs": [
    {
     "name": "stdout",
     "output_type": "stream",
     "text": [
      "+-------+----------------------+\n",
      "|carrier|average positive delay|\n",
      "+-------+----------------------+\n",
      "|     AA|                 33.97|\n",
      "|     VX|                 32.95|\n",
      "|     HA|                 32.71|\n",
      "|     OO|                 30.74|\n",
      "|     B6|                 24.83|\n",
      "|     UA|                 24.41|\n",
      "|     F9|                 22.26|\n",
      "|     DL|                 21.65|\n",
      "|     WN|                 20.36|\n",
      "|     US|                 17.85|\n",
      "|     AS|                 17.27|\n",
      "+-------+----------------------+\n",
      "\n",
      "+---------------------------+\n",
      "|avg(average positive delay)|\n",
      "+---------------------------+\n",
      "|         25.363636363636363|\n",
      "+---------------------------+\n",
      "\n",
      "+-----+----------------------+\n",
      "|month|average positive delay|\n",
      "+-----+----------------------+\n",
      "|    4|                 27.59|\n",
      "|    2|                 26.97|\n",
      "|   12|                 25.57|\n",
      "|    1|                 24.37|\n",
      "|    3|                 21.81|\n",
      "|    9|                  21.2|\n",
      "|    7|                 20.99|\n",
      "|    8|                 20.28|\n",
      "|    5|                 20.28|\n",
      "|   10|                 20.07|\n",
      "|    6|                 18.18|\n",
      "|   11|                 17.23|\n",
      "+-----+----------------------+\n",
      "\n",
      "+----+----------------------+\n",
      "|hour|average positive delay|\n",
      "+----+----------------------+\n",
      "|2   |169.5                 |\n",
      "|1   |75.88                 |\n",
      "|19  |32.24                 |\n",
      "|20  |31.91                 |\n",
      "|21  |29.21                 |\n",
      "|0   |28.6                  |\n",
      "|22  |26.87                 |\n",
      "|15  |26.75                 |\n",
      "|17  |26.48                 |\n",
      "|12  |25.87                 |\n",
      "|16  |25.74                 |\n",
      "|14  |25.63                 |\n",
      "|9   |23.05                 |\n",
      "|18  |20.2                  |\n",
      "|13  |19.37                 |\n",
      "|23  |19.2                  |\n",
      "|11  |18.65                 |\n",
      "|10  |16.58                 |\n",
      "|8   |14.7                  |\n",
      "|7   |11.21                 |\n",
      "|24  |10.0                  |\n",
      "|6   |4.86                  |\n",
      "|5   |3.5                   |\n",
      "+----+----------------------+\n",
      "\n"
     ]
    }
   ],
   "source": [
    "#Find average positive delay based on carrier and rank in descending order\n",
    "average_positive_delay = flights_data_new.groupBy(\"carrier\") \\\n",
    "  .agg(avg(when(col(\"dep_delay\") >= 0, col(\"dep_delay\"))) \\\n",
    "  .alias(\"average positive delay\")) \\\n",
    "  .orderBy(\"average positive delay\", ascending=False) \\\n",
    "  .withColumn(\"average positive delay\", f.round(col(\"average positive delay\"), 2))\n",
    "\n",
    "average_positive_delay.show()\n",
    "\n",
    "#Find Average departure delay\n",
    "average_positive_delay.agg({'average positive delay': 'avg'}).show()\n",
    "\n",
    "#Find average departure delay per month and rank in descending order\n",
    "average_month_positive_delay = flights_data_new.groupBy(\"month\") \\\n",
    "  .agg(avg(when(col(\"dep_delay\") >= 0, col(\"dep_delay\"))) \\\n",
    "  .alias(\"average positive delay\")) \\\n",
    "  .orderBy(\"average positive delay\", ascending=False) \\\n",
    "  .withColumn(\"average positive delay\", f.round(col(\"average positive delay\"), 2))\n",
    "\n",
    "average_month_positive_delay.show()\n",
    "\n",
    "#Find average departure delay per hour and rank in descending order\n",
    "average_hour_positive_delay = flights_data_new.groupBy(\"hour\") \\\n",
    "  .agg(avg(when(col(\"dep_delay\") >= 0, col(\"dep_delay\"))) \\\n",
    "  .alias(\"average positive delay\")) \\\n",
    "  .orderBy(\"average positive delay\", ascending=False) \\\n",
    "  .withColumn(\"average positive delay\", f.round(col(\"average positive delay\"), 2))\n",
    "\n",
    "average_hour_positive_delay.show(average_hour_positive_delay.count(),False)"
   ]
  },
  {
   "cell_type": "code",
   "execution_count": 18,
   "id": "feeb978a",
   "metadata": {},
   "outputs": [
    {
     "name": "stdout",
     "output_type": "stream",
     "text": [
      "+-------+----------------------+\n",
      "|carrier|average negative delay|\n",
      "+-------+----------------------+\n",
      "|     WN|                 -2.87|\n",
      "|     DL|                 -3.93|\n",
      "|     VX|                 -4.52|\n",
      "|     US|                 -4.57|\n",
      "|     AS|                 -4.76|\n",
      "|     UA|                 -4.87|\n",
      "|     AA|                 -5.25|\n",
      "|     OO|                 -5.74|\n",
      "|     B6|                 -5.79|\n",
      "|     HA|                  -6.2|\n",
      "|     F9|                  -6.3|\n",
      "+-------+----------------------+\n",
      "\n",
      "+---------------------------+\n",
      "|avg(average negative delay)|\n",
      "+---------------------------+\n",
      "|        -4.9818181818181815|\n",
      "+---------------------------+\n",
      "\n",
      "+-----+----------------------+\n",
      "|month|average negative delay|\n",
      "+-----+----------------------+\n",
      "|    8|                 -4.37|\n",
      "|    7|                 -4.42|\n",
      "|   12|                 -4.49|\n",
      "|    2|                 -4.54|\n",
      "|    6|                 -4.56|\n",
      "|    3|                 -4.68|\n",
      "|    1|                 -4.72|\n",
      "|    9|                 -4.86|\n",
      "|   11|                 -4.98|\n",
      "|   10|                  -5.0|\n",
      "|    4|                 -5.01|\n",
      "|    5|                  -5.1|\n",
      "+-----+----------------------+\n",
      "\n",
      "+----+----------------------+\n",
      "|hour|average negative delay|\n",
      "+----+----------------------+\n",
      "|23  |-4.1                  |\n",
      "|10  |-4.36                 |\n",
      "|22  |-4.4                  |\n",
      "|13  |-4.41                 |\n",
      "|11  |-4.43                 |\n",
      "|21  |-4.55                 |\n",
      "|8   |-4.57                 |\n",
      "|7   |-4.59                 |\n",
      "|6   |-4.65                 |\n",
      "|14  |-4.67                 |\n",
      "|16  |-4.76                 |\n",
      "|0   |-4.77                 |\n",
      "|18  |-4.81                 |\n",
      "|15  |-4.9                  |\n",
      "|9   |-4.9                  |\n",
      "|19  |-5.0                  |\n",
      "|5   |-5.05                 |\n",
      "|12  |-5.08                 |\n",
      "|17  |-5.64                 |\n",
      "|20  |-5.65                 |\n",
      "|1   |null                  |\n",
      "|24  |null                  |\n",
      "|2   |null                  |\n",
      "+----+----------------------+\n",
      "\n"
     ]
    }
   ],
   "source": [
    "#Find average negative delay based on carrier and rank in descending order\n",
    "average_negative_delay = flights_data_new.groupBy(\"carrier\") \\\n",
    "  .agg(avg(when(col(\"dep_delay\") < 0, col(\"dep_delay\"))) \\\n",
    "  .alias(\"average negative delay\")) \\\n",
    "  .orderBy(\"average negative delay\", ascending=False) \\\n",
    "  .withColumn(\"average negative delay\", f.round(col(\"average negative delay\"), 2))\n",
    "\n",
    "average_negative_delay.show()\n",
    "\n",
    "#Find Average negative departure delay\n",
    "average_negative_delay.agg({'average negative delay': 'avg'}).show()\n",
    "\n",
    "#Find average negative departure delay per month and rank in descending order\n",
    "average_month_negative_delay = flights_data_new.groupBy(\"month\") \\\n",
    "  .agg(avg(when(col(\"dep_delay\") < 0, col(\"dep_delay\"))) \\\n",
    "  .alias(\"average negative delay\")) \\\n",
    "  .orderBy(\"average negative delay\", ascending=False) \\\n",
    "  .withColumn(\"average negative delay\", f.round(col(\"average negative delay\"), 2))\n",
    "\n",
    "average_month_negative_delay.show()\n",
    "\n",
    "#Find average negative departure delay per hour and rank in descending order\n",
    "average_hour_negative_delay = flights_data_new.groupBy(\"hour\") \\\n",
    "  .agg(avg(when(col(\"dep_delay\") < 0, col(\"dep_delay\"))) \\\n",
    "  .alias(\"average negative delay\")) \\\n",
    "  .orderBy(\"average negative delay\", ascending=False) \\\n",
    "  .withColumn(\"average negative delay\", f.round(col(\"average negative delay\"), 2))\n",
    "\n",
    "average_hour_negative_delay.show(average_hour_negative_delay.count(),False)"
   ]
  },
  {
   "cell_type": "markdown",
   "id": "8736cd08",
   "metadata": {},
   "source": [
    "## 3d)"
   ]
  },
  {
   "cell_type": "code",
   "execution_count": 19,
   "id": "ed1b61fd",
   "metadata": {},
   "outputs": [
    {
     "name": "stdout",
     "output_type": "stream",
     "text": [
      "+-------+------------+------------+------------+\n",
      "|carrier|avg_distance|min_distance|max_distance|\n",
      "+-------+------------+------------+------------+\n",
      "|     HA|      2630.1|        2603|        2677|\n",
      "|     AA|     1738.17|        1107|        2724|\n",
      "|     B6|     1631.27|         846|        2537|\n",
      "|     DL|     1563.95|         630|        2677|\n",
      "|     US|     1525.47|        1009|        2406|\n",
      "|     UA|     1454.97|         550|        2434|\n",
      "|     AS|     1218.03|          93|        2717|\n",
      "|     F9|     1033.72|         991|        2021|\n",
      "|     WN|      906.71|         444|        2358|\n",
      "|     VX|      759.01|         550|         954|\n",
      "|     OO|       604.8|         106|        1368|\n",
      "+-------+------------+------------+------------+\n",
      "\n"
     ]
    }
   ],
   "source": [
    "#Find average,min,max flight distance of carrier and rank in descending order based on average distance\n",
    "flights_data_new.groupBy(\"carrier\") \\\n",
    "  .agg(\n",
    "        f.avg(f.col('distance')).alias('avg_distance'),\n",
    "        f.min(f.col('distance')).alias('min_distance'),\n",
    "        f.max(f.col('distance')).alias('max_distance'),\n",
    "    ) \\\n",
    "  .orderBy('avg_distance', ascending=False) \\\n",
    "  .withColumn(\"avg_distance\", f.round(col('avg_distance'), 2)) \\\n",
    "  .show()\n"
   ]
  },
  {
   "cell_type": "code",
   "execution_count": 20,
   "id": "24fc782a",
   "metadata": {},
   "outputs": [
    {
     "name": "stdout",
     "output_type": "stream",
     "text": [
      "+----+-----+---+--------+---------+--------+---------+-------+-------+------+------+----+--------+--------+----+------+----------------------------+\n",
      "|year|month|day|dep_time|dep_delay|arr_time|arr_delay|carrier|tailnum|flight|origin|dest|air_time|distance|hour|minute|flight_speed(miles per hour)|\n",
      "+----+-----+---+--------+---------+--------+---------+-------+-------+------+------+----+--------+--------+----+------+----------------------------+\n",
      "|2014|   12|  8|     658|       -7|     935|       -5|     VX| N846VA|  1780|   SEA| LAX|     132|     954|   6|    58|                      433.64|\n",
      "|2014|    1| 22|    1040|        5|    1505|        5|     AS| N559AS|   851|   SEA| HNL|     360|    2677|  10|    40|                      446.17|\n",
      "|2014|    3|  9|    1443|       -2|    1652|        2|     VX| N847VA|   755|   SEA| SFO|     111|     679|  14|    43|                      367.03|\n",
      "|2014|    4|  9|    1705|       45|    1839|       34|     WN| N360SW|   344|   PDX| SJC|      83|     569|  17|     5|                      411.33|\n",
      "|2014|    3|  9|     754|       -1|    1015|        1|     AS| N612AS|   522|   SEA| BUR|     127|     937|   7|    54|                      442.68|\n",
      "|2014|    1| 15|    1037|        7|    1352|        2|     WN| N646SW|    48|   PDX| DEN|     121|     991|  10|    37|                       491.4|\n",
      "|2014|    7|  2|     847|       42|    1041|       51|     WN| N422WN|  1520|   PDX| OAK|      90|     543|   8|    47|                       362.0|\n",
      "|2014|    5| 12|    1655|       -5|    1842|      -18|     VX| N361VA|   755|   SEA| SFO|      98|     679|  16|    55|                      415.71|\n",
      "|2014|    4| 19|    1236|       -4|    1508|       -7|     AS| N309AS|   490|   SEA| SAN|     135|    1050|  12|    36|                      466.67|\n",
      "|2014|   11| 19|    1812|       -3|    2352|       -4|     AS| N564AS|    26|   SEA| ORD|     198|    1721|  18|    12|                      521.52|\n",
      "|2014|   11|  8|    1653|       -2|    1924|       -1|     AS| N323AS|   448|   SEA| LAX|     130|     954|  16|    53|                      440.31|\n",
      "|2014|    8|  3|    1120|        0|    1415|        2|     AS| N305AS|   656|   SEA| PHX|     154|    1107|  11|    20|                       431.3|\n",
      "|2014|   10| 30|     811|       21|    1038|       29|     AS| N433AS|   608|   SEA| LAS|     127|     867|   8|    11|                      409.61|\n",
      "|2014|   11| 12|    2346|       -4|     217|      -28|     AS| N765AS|   121|   SEA| ANC|     183|    1448|  23|    46|                      474.75|\n",
      "|2014|   10| 31|    1314|       89|    1544|      111|     AS| N713AS|   306|   SEA| SFO|     129|     679|  13|    14|                      315.81|\n",
      "|2014|    1| 29|    2009|        3|    2159|        9|     UA| N27205|  1458|   PDX| SFO|      90|     550|  20|     9|                      366.67|\n",
      "|2014|   12| 17|    2015|       50|    2150|       41|     AS| N626AS|   368|   SEA| SMF|      76|     605|  20|    15|                      477.63|\n",
      "|2014|    8| 11|    1017|       -3|    1613|       -7|     WN| N8634A|   827|   SEA| MDW|     216|    1733|  10|    17|                      481.39|\n",
      "|2014|    1| 13|    2156|       -9|     607|      -15|     AS| N597AS|    24|   SEA| BOS|     290|    2496|  21|    56|                      516.41|\n",
      "|2014|    6|  5|    1733|      -12|    1945|      -10|     OO| N215AG|  3488|   PDX| BUR|     111|     817|  17|    33|                      441.62|\n",
      "+----+-----+---+--------+---------+--------+---------+-------+-------+------+------+----+--------+--------+----+------+----------------------------+\n",
      "only showing top 20 rows\n",
      "\n"
     ]
    }
   ],
   "source": [
    "#Create new column \"flight_speed(miles per hour)\". Unit of flight distance is miles and air time is minutes.\n",
    "#Speed = distance / Time = distance/(air_time/60)\n",
    "\n",
    "flights_data_final = flights_data_new.withColumn('flight_speed(miles per hour)', \n",
    "                            f.round(flights_data_new.distance / (flights_data_new.air_time / 60),2)) \n",
    "\n",
    "flights_data_final.show()"
   ]
  },
  {
   "cell_type": "code",
   "execution_count": 21,
   "id": "71c22400",
   "metadata": {},
   "outputs": [
    {
     "name": "stdout",
     "output_type": "stream",
     "text": [
      "+-------+---------+---------+---------+\n",
      "|carrier|avg_speed|min_speed|max_speed|\n",
      "+-------+---------+---------+---------+\n",
      "|     AA|   509.16|   423.83|   579.07|\n",
      "|     DL|   500.53|   311.66|   600.55|\n",
      "|     US|   491.35|   380.75|   605.04|\n",
      "|     F9|   483.45|   407.26|   560.94|\n",
      "|     B6|   482.02|   357.41|    576.0|\n",
      "|     UA|   478.66|    275.0|   588.69|\n",
      "|     HA|   473.33|   415.75|   538.55|\n",
      "|     AS|   451.77|   199.29|   652.34|\n",
      "|     WN|   446.95|   322.57|   557.48|\n",
      "|     VX|   421.25|   331.22|   511.07|\n",
      "|     OO|   374.65|   157.96|   566.07|\n",
      "+-------+---------+---------+---------+\n",
      "\n"
     ]
    }
   ],
   "source": [
    "#Find average,min,max flight speed of carrier and rank in descending order based on average speed\n",
    "flights_data_final.groupBy(\"carrier\") \\\n",
    "  .agg(\n",
    "        f.avg(f.col('flight_speed(miles per hour)')).alias('avg_speed'),\n",
    "        f.min(f.col('flight_speed(miles per hour)')).alias('min_speed'),\n",
    "        f.max(f.col('flight_speed(miles per hour)')).alias('max_speed'),\n",
    "    ) \\\n",
    "  .orderBy('avg_speed', ascending=False) \\\n",
    "  .withColumn(\"avg_speed\", f.round(col('avg_speed'), 2)) \\\n",
    "  .show()"
   ]
  },
  {
   "cell_type": "code",
   "execution_count": 22,
   "id": "638a34dd",
   "metadata": {},
   "outputs": [
    {
     "name": "stdout",
     "output_type": "stream",
     "text": [
      "+----+-----+---+--------+---------+--------+---------+-------+-------+------+------+----+--------+--------+----+------+----------------------------+\n",
      "|year|month|day|dep_time|dep_delay|arr_time|arr_delay|carrier|tailnum|flight|origin|dest|air_time|distance|hour|minute|flight_speed(miles per hour)|\n",
      "+----+-----+---+--------+---------+--------+---------+-------+-------+------+------+----+--------+--------+----+------+----------------------------+\n",
      "|2014|    3| 20|    1200|       -8|    1239|       -7|     OO| N569SW|  5411|   PDX| EUG|      30|     106|  12|     0|                       212.0|\n",
      "+----+-----+---+--------+---------+--------+---------+-------+-------+------+------+----+--------+--------+----+------+----------------------------+\n",
      "\n",
      "+----+-----+---+--------+---------+--------+---------+-------+-------+------+------+----+--------+--------+----+------+----------------------------+\n",
      "|year|month|day|dep_time|dep_delay|arr_time|arr_delay|carrier|tailnum|flight|origin|dest|air_time|distance|hour|minute|flight_speed(miles per hour)|\n",
      "+----+-----+---+--------+---------+--------+---------+-------+-------+------+------+----+--------+--------+----+------+----------------------------+\n",
      "|2014|    3| 15|    1822|       -8|    2233|       58|     AS| N516AS|   815|   SEA| LIH|     409|    2701|  18|    22|                      396.23|\n",
      "+----+-----+---+--------+---------+--------+---------+-------+-------+------+------+----+--------+--------+----+------+----------------------------+\n",
      "\n"
     ]
    }
   ],
   "source": [
    "#Find shortest flight from \"PDX\" based on distance\n",
    "flights_data_final.filter(col(\"origin\") == \"PDX\").orderBy(col(\"distance\").asc()).limit(1).show()\n",
    "\n",
    "#Find longest flight from \"SEA\" based on duration\n",
    "flights_data_final.filter(col(\"origin\") == \"SEA\").orderBy(col(\"air_time\").desc()).limit(1).show()\n"
   ]
  },
  {
   "cell_type": "code",
   "execution_count": 23,
   "id": "b4e20253",
   "metadata": {},
   "outputs": [
    {
     "name": "stdout",
     "output_type": "stream",
     "text": [
      "+------------------+\n",
      "|avg_airtime (mins)|\n",
      "+------------------+\n",
      "|            181.64|\n",
      "+------------------+\n",
      "\n",
      "+-------------------+\n",
      "|total_airtime (hrs)|\n",
      "+-------------------+\n",
      "|            2107.02|\n",
      "+-------------------+\n",
      "\n"
     ]
    }
   ],
   "source": [
    "#Find average flight duration of carrier “UA” and originated from “SEA”. \n",
    "average_duration = flights_data_final.filter(col(\"carrier\") == \"UA\") \\\n",
    "                  .filter(col(\"origin\") == \"SEA\") \\\n",
    "                  .agg(f.avg(f.col('air_time')).alias('avg_airtime (mins)')) \\\n",
    "                  .withColumn(\"avg_airtime (mins)\", f.round(col('avg_airtime (mins)'), 2))\n",
    "average_duration.show()\n",
    "\n",
    "# #Find the total flight duration in hours.\n",
    "total_airtime = flights_data_final.filter(col(\"carrier\") == \"UA\") \\\n",
    "                  .filter(col(\"origin\") == \"SEA\") \\\n",
    "                  .agg(f.sum(f.col('air_time')).alias('total_airtime (hrs)')) \\\n",
    "                  .withColumn(\"total_airtime (hrs)\", f.round(col('total_airtime (hrs)') / 60, 2))\n",
    "total_airtime.show()"
   ]
  },
  {
   "cell_type": "markdown",
   "id": "52d50214",
   "metadata": {},
   "source": [
    "## 3e)"
   ]
  },
  {
   "cell_type": "code",
   "execution_count": 24,
   "id": "dff85d96",
   "metadata": {},
   "outputs": [],
   "source": [
    "#Read planes_csv and store in dataframe. Show rows, schema and number of occurences.\n",
    "planes_data = spark\\\n",
    ".read\\\n",
    ".option(\"inferSchema\", \"true\")\\\n",
    ".option(\"header\", \"true\")\\\n",
    ".csv (\"planes_data_v2.csv\")"
   ]
  },
  {
   "cell_type": "code",
   "execution_count": 25,
   "id": "abd89fd0",
   "metadata": {},
   "outputs": [
    {
     "name": "stdout",
     "output_type": "stream",
     "text": [
      "<class 'pyspark.sql.dataframe.DataFrame'>\n"
     ]
    }
   ],
   "source": [
    "print(type(planes_data))"
   ]
  },
  {
   "cell_type": "code",
   "execution_count": 26,
   "id": "4f2e6605",
   "metadata": {},
   "outputs": [
    {
     "name": "stdout",
     "output_type": "stream",
     "text": [
      "+-------+----+--------------------+----------------+--------+-------+-----+-----+---------+\n",
      "|tailnum|year|                type|    manufacturer|   model|engines|seats|speed|   engine|\n",
      "+-------+----+--------------------+----------------+--------+-------+-----+-----+---------+\n",
      "| N102UW|1998|Fixed wing multi ...|AIRBUS INDUSTRIE|A320-214|      2|  182| null|Turbo-fan|\n",
      "| N103US|1999|Fixed wing multi ...|AIRBUS INDUSTRIE|A320-214|      2|  182| null|Turbo-fan|\n",
      "| N104UW|1999|Fixed wing multi ...|AIRBUS INDUSTRIE|A320-214|      2|  182| null|Turbo-fan|\n",
      "| N105UW|1999|Fixed wing multi ...|AIRBUS INDUSTRIE|A320-214|      2|  182| null|Turbo-fan|\n",
      "| N107US|1999|Fixed wing multi ...|AIRBUS INDUSTRIE|A320-214|      2|  182| null|Turbo-fan|\n",
      "| N108UW|1999|Fixed wing multi ...|AIRBUS INDUSTRIE|A320-214|      2|  182| null|Turbo-fan|\n",
      "| N109UW|1999|Fixed wing multi ...|AIRBUS INDUSTRIE|A320-214|      2|  182| null|Turbo-fan|\n",
      "| N110UW|1999|Fixed wing multi ...|AIRBUS INDUSTRIE|A320-214|      2|  182| null|Turbo-fan|\n",
      "| N111US|1999|Fixed wing multi ...|AIRBUS INDUSTRIE|A320-214|      2|  182| null|Turbo-fan|\n",
      "| N11206|2000|Fixed wing multi ...|          BOEING| 737-824|      2|  149| null|Turbo-fan|\n",
      "| N112US|1999|Fixed wing multi ...|AIRBUS INDUSTRIE|A320-214|      2|  182| null|Turbo-fan|\n",
      "| N113UW|1999|Fixed wing multi ...|AIRBUS INDUSTRIE|A320-214|      2|  182| null|Turbo-fan|\n",
      "| N114UW|1999|Fixed wing multi ...|AIRBUS INDUSTRIE|A320-214|      2|  182| null|Turbo-fan|\n",
      "| N117UW|2000|Fixed wing multi ...|AIRBUS INDUSTRIE|A320-214|      2|  182| null|Turbo-fan|\n",
      "| N118US|2000|Fixed wing multi ...|AIRBUS INDUSTRIE|A320-214|      2|  182| null|Turbo-fan|\n",
      "| N119US|2000|Fixed wing multi ...|AIRBUS INDUSTRIE|A320-214|      2|  182| null|Turbo-fan|\n",
      "| N1200K|1998|Fixed wing multi ...|          BOEING| 767-332|      2|  330| null|Turbo-fan|\n",
      "| N1201P|1998|Fixed wing multi ...|          BOEING| 767-332|      2|  330| null|Turbo-fan|\n",
      "| N12114|1995|Fixed wing multi ...|          BOEING| 757-224|      2|  178| null|Turbo-jet|\n",
      "| N121DE|1987|Fixed wing multi ...|          BOEING| 767-332|      2|  330| null|Turbo-fan|\n",
      "+-------+----+--------------------+----------------+--------+-------+-----+-----+---------+\n",
      "only showing top 20 rows\n",
      "\n"
     ]
    }
   ],
   "source": [
    "planes_data.show()"
   ]
  },
  {
   "cell_type": "code",
   "execution_count": 27,
   "id": "10fb0440",
   "metadata": {},
   "outputs": [
    {
     "data": {
      "text/plain": [
       "2628"
      ]
     },
     "execution_count": 27,
     "metadata": {},
     "output_type": "execute_result"
    }
   ],
   "source": [
    "planes_data.count()"
   ]
  },
  {
   "cell_type": "code",
   "execution_count": 28,
   "id": "51195e61",
   "metadata": {},
   "outputs": [
    {
     "name": "stdout",
     "output_type": "stream",
     "text": [
      "root\n",
      " |-- tailnum: string (nullable = true)\n",
      " |-- year: integer (nullable = true)\n",
      " |-- type: string (nullable = true)\n",
      " |-- manufacturer: string (nullable = true)\n",
      " |-- model: string (nullable = true)\n",
      " |-- engines: integer (nullable = true)\n",
      " |-- seats: integer (nullable = true)\n",
      " |-- speed: integer (nullable = true)\n",
      " |-- engine: string (nullable = true)\n",
      "\n"
     ]
    }
   ],
   "source": [
    "planes_data.printSchema()"
   ]
  },
  {
   "cell_type": "code",
   "execution_count": 29,
   "id": "191fcf9c",
   "metadata": {},
   "outputs": [
    {
     "name": "stdout",
     "output_type": "stream",
     "text": [
      "+-------+----------+--------------------+----------------+--------+-------+-----+---------+\n",
      "|tailnum|plane_year|                type|    manufacturer|   model|engines|seats|   engine|\n",
      "+-------+----------+--------------------+----------------+--------+-------+-----+---------+\n",
      "| N102UW|      1998|Fixed wing multi ...|AIRBUS INDUSTRIE|A320-214|      2|  182|Turbo-fan|\n",
      "| N103US|      1999|Fixed wing multi ...|AIRBUS INDUSTRIE|A320-214|      2|  182|Turbo-fan|\n",
      "| N104UW|      1999|Fixed wing multi ...|AIRBUS INDUSTRIE|A320-214|      2|  182|Turbo-fan|\n",
      "| N105UW|      1999|Fixed wing multi ...|AIRBUS INDUSTRIE|A320-214|      2|  182|Turbo-fan|\n",
      "| N107US|      1999|Fixed wing multi ...|AIRBUS INDUSTRIE|A320-214|      2|  182|Turbo-fan|\n",
      "| N108UW|      1999|Fixed wing multi ...|AIRBUS INDUSTRIE|A320-214|      2|  182|Turbo-fan|\n",
      "| N109UW|      1999|Fixed wing multi ...|AIRBUS INDUSTRIE|A320-214|      2|  182|Turbo-fan|\n",
      "| N110UW|      1999|Fixed wing multi ...|AIRBUS INDUSTRIE|A320-214|      2|  182|Turbo-fan|\n",
      "| N111US|      1999|Fixed wing multi ...|AIRBUS INDUSTRIE|A320-214|      2|  182|Turbo-fan|\n",
      "| N11206|      2000|Fixed wing multi ...|          BOEING| 737-824|      2|  149|Turbo-fan|\n",
      "| N112US|      1999|Fixed wing multi ...|AIRBUS INDUSTRIE|A320-214|      2|  182|Turbo-fan|\n",
      "| N113UW|      1999|Fixed wing multi ...|AIRBUS INDUSTRIE|A320-214|      2|  182|Turbo-fan|\n",
      "| N114UW|      1999|Fixed wing multi ...|AIRBUS INDUSTRIE|A320-214|      2|  182|Turbo-fan|\n",
      "| N117UW|      2000|Fixed wing multi ...|AIRBUS INDUSTRIE|A320-214|      2|  182|Turbo-fan|\n",
      "| N118US|      2000|Fixed wing multi ...|AIRBUS INDUSTRIE|A320-214|      2|  182|Turbo-fan|\n",
      "| N119US|      2000|Fixed wing multi ...|AIRBUS INDUSTRIE|A320-214|      2|  182|Turbo-fan|\n",
      "| N1200K|      1998|Fixed wing multi ...|          BOEING| 767-332|      2|  330|Turbo-fan|\n",
      "| N1201P|      1998|Fixed wing multi ...|          BOEING| 767-332|      2|  330|Turbo-fan|\n",
      "| N12114|      1995|Fixed wing multi ...|          BOEING| 757-224|      2|  178|Turbo-jet|\n",
      "| N121DE|      1987|Fixed wing multi ...|          BOEING| 767-332|      2|  330|Turbo-fan|\n",
      "+-------+----------+--------------------+----------------+--------+-------+-----+---------+\n",
      "only showing top 20 rows\n",
      "\n"
     ]
    }
   ],
   "source": [
    "#Delete the “speed” column and change the name of “year” column to “plane_year”\n",
    "planes_data_new = planes_data.withColumnRenamed(\"year\", \"plane_year\").drop(\"speed\")\n",
    "planes_data_new.show()"
   ]
  },
  {
   "cell_type": "code",
   "execution_count": 30,
   "id": "d1a7d887",
   "metadata": {},
   "outputs": [
    {
     "name": "stdout",
     "output_type": "stream",
     "text": [
      "+-------+----------+--------------------+--------------+-----------+-------+-----+---------+----+-----+---+--------+---------+--------+---------+-------+------+------+----+--------+--------+----+------+----------------------------+\n",
      "|tailnum|plane_year|                type|  manufacturer|      model|engines|seats|   engine|year|month|day|dep_time|dep_delay|arr_time|arr_delay|carrier|flight|origin|dest|air_time|distance|hour|minute|flight_speed(miles per hour)|\n",
      "+-------+----------+--------------------+--------------+-----------+-------+-----+---------+----+-----+---+--------+---------+--------+---------+-------+------+------+----+--------+--------+----+------+----------------------------+\n",
      "| N846VA|      2011|Fixed wing multi ...|        AIRBUS|   A320-214|      2|  182|Turbo-fan|2014|   12|  8|     658|       -7|     935|       -5|     VX|  1780|   SEA| LAX|     132|     954|   6|    58|                      433.64|\n",
      "| N559AS|      2006|Fixed wing multi ...|        BOEING|    737-890|      2|  149|Turbo-fan|2014|    1| 22|    1040|        5|    1505|        5|     AS|   851|   SEA| HNL|     360|    2677|  10|    40|                      446.17|\n",
      "| N847VA|      2011|Fixed wing multi ...|        AIRBUS|   A320-214|      2|  182|Turbo-fan|2014|    3|  9|    1443|       -2|    1652|        2|     VX|   755|   SEA| SFO|     111|     679|  14|    43|                      367.03|\n",
      "| N360SW|      1992|Fixed wing multi ...|        BOEING|    737-3H4|      2|  149|Turbo-fan|2014|    4|  9|    1705|       45|    1839|       34|     WN|   344|   PDX| SJC|      83|     569|  17|     5|                      411.33|\n",
      "| N612AS|      1999|Fixed wing multi ...|        BOEING|    737-790|      2|  151|Turbo-jet|2014|    3|  9|     754|       -1|    1015|        1|     AS|   522|   SEA| BUR|     127|     937|   7|    54|                      442.68|\n",
      "| N646SW|      1997|Fixed wing multi ...|        BOEING|    737-3H4|      2|  149|Turbo-fan|2014|    1| 15|    1037|        7|    1352|        2|     WN|    48|   PDX| DEN|     121|     991|  10|    37|                       491.4|\n",
      "| N422WN|      2002|Fixed wing multi ...|        BOEING|    737-7H4|      2|  140|Turbo-fan|2014|    7|  2|     847|       42|    1041|       51|     WN|  1520|   PDX| OAK|      90|     543|   8|    47|                       362.0|\n",
      "| N361VA|      2013|Fixed wing multi ...|        AIRBUS|   A320-214|      2|  182|Turbo-fan|2014|    5| 12|    1655|       -5|    1842|      -18|     VX|   755|   SEA| SFO|      98|     679|  16|    55|                      415.71|\n",
      "| N309AS|      2001|Fixed wing multi ...|        BOEING|    737-990|      2|  149|Turbo-jet|2014|    4| 19|    1236|       -4|    1508|       -7|     AS|   490|   SEA| SAN|     135|    1050|  12|    36|                      466.67|\n",
      "| N564AS|      2006|Fixed wing multi ...|        BOEING|    737-890|      2|  149|Turbo-fan|2014|   11| 19|    1812|       -3|    2352|       -4|     AS|    26|   SEA| ORD|     198|    1721|  18|    12|                      521.52|\n",
      "| N323AS|      2004|Fixed wing multi ...|        BOEING|    737-990|      2|  149|Turbo-jet|2014|   11|  8|    1653|       -2|    1924|       -1|     AS|   448|   SEA| LAX|     130|     954|  16|    53|                      440.31|\n",
      "| N305AS|      2001|Fixed wing multi ...|        BOEING|    737-990|      2|  149|Turbo-jet|2014|    8|  3|    1120|        0|    1415|        2|     AS|   656|   SEA| PHX|     154|    1107|  11|    20|                       431.3|\n",
      "| N433AS|      2013|Fixed wing multi ...|        BOEING|  737-990ER|      2|  222|Turbo-fan|2014|   10| 30|     811|       21|    1038|       29|     AS|   608|   SEA| LAS|     127|     867|   8|    11|                      409.61|\n",
      "| N765AS|      1992|Fixed wing multi ...|        BOEING|    737-4Q8|      2|  149|Turbo-fan|2014|   11| 12|    2346|       -4|     217|      -28|     AS|   121|   SEA| ANC|     183|    1448|  23|    46|                      474.75|\n",
      "| N713AS|      1999|Fixed wing multi ...|        BOEING|    737-490|      2|  149|Turbo-jet|2014|   10| 31|    1314|       89|    1544|      111|     AS|   306|   SEA| SFO|     129|     679|  13|    14|                      315.81|\n",
      "| N27205|      2000|Fixed wing multi ...|        BOEING|    737-824|      2|  149|Turbo-fan|2014|    1| 29|    2009|        3|    2159|        9|     UA|  1458|   PDX| SFO|      90|     550|  20|     9|                      366.67|\n",
      "| N626AS|      2001|Fixed wing multi ...|        BOEING|    737-790|      2|  151|Turbo-jet|2014|   12| 17|    2015|       50|    2150|       41|     AS|   368|   SEA| SMF|      76|     605|  20|    15|                      477.63|\n",
      "| N8634A|      2014|Fixed wing multi ...|        BOEING|    737-8H4|      2|  140|Turbo-fan|2014|    8| 11|    1017|       -3|    1613|       -7|     WN|   827|   SEA| MDW|     216|    1733|  10|    17|                      481.39|\n",
      "| N597AS|      2008|Fixed wing multi ...|        BOEING|    737-890|      2|  149|Turbo-fan|2014|    1| 13|    2156|       -9|     607|      -15|     AS|    24|   SEA| BOS|     290|    2496|  21|    56|                      516.41|\n",
      "| N215AG|      2001|Fixed wing multi ...|BOMBARDIER INC|CL-600-2C10|      2|   80|Turbo-fan|2014|    6|  5|    1733|      -12|    1945|      -10|     OO|  3488|   PDX| BUR|     111|     817|  17|    33|                      441.62|\n",
      "+-------+----------+--------------------+--------------+-----------+-------+-----+---------+----+-----+---+--------+---------+--------+---------+-------+------+------+----+--------+--------+----+------+----------------------------+\n",
      "only showing top 20 rows\n",
      "\n"
     ]
    }
   ],
   "source": [
    "#inner join with the existing flight DataFrame based on the key of tailnum\n",
    "flights_plane = planes_data_new.join(flights_data_final,\n",
    "               on='tailnum',how=\"inner\")\n",
    "flights_plane.show()"
   ]
  },
  {
   "cell_type": "code",
   "execution_count": 31,
   "id": "714f6b15",
   "metadata": {},
   "outputs": [
    {
     "data": {
      "text/plain": [
       "9394"
      ]
     },
     "execution_count": 31,
     "metadata": {},
     "output_type": "execute_result"
    }
   ],
   "source": [
    "#the count after inner join\n",
    "flights_plane.count()"
   ]
  },
  {
   "cell_type": "code",
   "execution_count": 32,
   "id": "edae9e0a",
   "metadata": {},
   "outputs": [
    {
     "name": "stdout",
     "output_type": "stream",
     "text": [
      "+-------+----------+--------------------+----------------+-------------+-------+-----+-------------+----+-----+---+--------+---------+--------+---------+-------+------+------+----+--------+--------+----+------+----------------------------+\n",
      "|tailnum|plane_year|                type|    manufacturer|        model|engines|seats|       engine|year|month|day|dep_time|dep_delay|arr_time|arr_delay|carrier|flight|origin|dest|air_time|distance|hour|minute|flight_speed(miles per hour)|\n",
      "+-------+----------+--------------------+----------------+-------------+-------+-----+-------------+----+-----+---+--------+---------+--------+---------+-------+------+------+----+--------+--------+----+------+----------------------------+\n",
      "| N918SW|      null|Fixed wing multi ...|  BOMBARDIER INC|  CL-600-2B19|      2|   55|    Turbo-fan|2014|   12| 11|    1057|       87|    1315|      112|     OO|  6328|   PDX| SFO|     118|     550|  10|    57|                      279.66|\n",
      "| N527AS|      null|Fixed wing multi ...|          BOEING|      737-890|      2|  149|    Turbo-fan|2014|    3|  3|     647|       -3|    1007|      -12|     AS|   682|   SEA| DEN|     119|    1024|   6|    47|                       516.3|\n",
      "| N76514|      null|Fixed wing multi ...|          BOEING|      737-824|      2|  149|    Turbo-fan|2014|    9| 19|    1212|       -1|    1806|      -13|     UA|  1081|   PDX| IAH|     210|    1825|  12|    12|                      521.43|\n",
      "| N299WN|      null|Fixed wing multi ...|          BOEING|      737-7H4|      2|  140|    Turbo-fan|2014|    9| 10|    1155|        5|    1420|       -5|     WN|   270|   PDX| PHX|     129|    1009|  11|    55|                       469.3|\n",
      "| N527AS|      null|Fixed wing multi ...|          BOEING|      737-890|      2|  149|    Turbo-fan|2014|    6| 25|    1926|       -9|    2150|       -5|     AS|   524|   SEA| BUR|     127|     937|  19|    26|                      442.68|\n",
      "| N389HA|      null|Fixed wing multi ...|          AIRBUS|     A330-243|      2|  377|    Turbo-fan|2014|    3| 22|    1007|       -8|    1305|      -20|     HA|    25|   PDX| HNL|     338|    2603|  10|     7|                      462.07|\n",
      "| N767SW|      null|Fixed wing multi ...|          BOEING|      737-7H4|      2|  140|    Turbo-fan|2014|    3|  7|     703|       -7|     939|      -11|     WN|   230|   PDX| SLC|      82|     630|   7|     3|                      460.98|\n",
      "| N828AW|      null|Fixed wing multi ...|AIRBUS INDUSTRIE|     A319-132|      2|  179|    Turbo-jet|2014|    1|  3|     517|       -8|     840|      -15|     US|   649|   PDX| PHX|     123|    1009|   5|    17|                       492.2|\n",
      "| N8606C|      null|Fixed wing multi ...|          BOEING|      737-8H4|      2|  140|    Turbo-fan|2014|    5| 20|     623|        3|    1231|        6|     WN|  2163|   PDX| MDW|     227|    1751|   6|    23|                      462.82|\n",
      "| N527AS|      null|Fixed wing multi ...|          BOEING|      737-890|      2|  149|    Turbo-fan|2014|    2|  6|     550|      -15|     745|      -20|     AS|   344|   SEA| OAK|      92|     671|   5|    50|                      437.61|\n",
      "| N8303R|      null|Fixed wing multi ...|          BOEING|      737-8H4|      2|  140|    Turbo-fan|2014|    5|  7|    1004|       -1|    1218|      -12|     WN|   318|   SEA| LAS|     107|     867|  10|     4|                      486.17|\n",
      "| N466UA|      null|Fixed wing multi ...|AIRBUS INDUSTRIE|     A320-232|      2|  200|    Turbo-fan|2014|    9| 17|    1036|       -2|    1635|       -4|     UA|   278|   SEA| ORD|     200|    1721|  10|    36|                       516.3|\n",
      "| N531JB|      null|Fixed wing single...|   BARKER JACK L|ZODIAC 601HDS|      1|    2|Reciprocating|2014|    4| 14|    1718|       -2|    1944|       -8|     B6|  1007|   SEA| LGB|     131|     965|  17|    18|                      441.98|\n",
      "| N8303R|      null|Fixed wing multi ...|          BOEING|      737-8H4|      2|  140|    Turbo-fan|2014|    7| 20|    1135|        0|    1421|       -9|     WN|  4583|   SEA| PHX|     148|    1107|  11|    35|                      448.78|\n",
      "| N7812G|      null|Fixed wing multi ...|          BOEING|      737-76N|      2|  149|    Turbo-fan|2014|    7| 18|     738|       68|    1526|       56|     WN|  2004|   SEA| BWI|     272|    2335|   7|    38|                      515.07|\n",
      "| N828AW|      null|Fixed wing multi ...|AIRBUS INDUSTRIE|     A319-132|      2|  179|    Turbo-jet|2014|    4|  5|    1124|       -1|    1344|      -13|     US|   634|   PDX| PHX|     123|    1009|  11|    24|                       492.2|\n",
      "| N76514|      null|Fixed wing multi ...|          BOEING|      737-824|      2|  149|    Turbo-fan|2014|   10| 27|     611|       -4|    1412|      -18|     UA|  1637|   SEA| EWR|     278|    2402|   6|    11|                      518.42|\n",
      "| N729JB|      null|Fixed wing multi ...|          AIRBUS|     A320-232|      2|  200|    Turbo-fan|2014|    9|  8|    2248|       -2|     700|        1|     B6|   498|   SEA| BOS|     285|    2496|  22|    48|                      525.47|\n",
      "| N75426|      null|Fixed wing multi ...|          BOEING|    737-924ER|      2|  191|    Turbo-fan|2014|    3| 12|    1301|        0|    1538|       -7|     UA|  1192|   SEA| ANC|     197|    1448|  13|     1|                      441.02|\n",
      "| N613QX|      null|Fixed wing multi ...|  BOMBARDIER INC|  CL-600-2C10|      2|   80|    Turbo-fan|2014|   11|  6|    1442|       17|    1659|       13|     OO|  4540|   SEA| LAS|     116|     867|  14|    42|                      448.45|\n",
      "+-------+----------+--------------------+----------------+-------------+-------+-----+-------------+----+-----+---+--------+---------+--------+---------+-------+------+------+----+--------+--------+----+------+----------------------------+\n",
      "only showing top 20 rows\n",
      "\n"
     ]
    }
   ],
   "source": [
    "#Display rows with missing values \n",
    "flight_plane_missing = flights_plane.where(reduce(lambda x, y: x | y, (f.col(x).isNull() for x in flights_plane.columns)))\n",
    "flight_plane_missing.show()"
   ]
  },
  {
   "cell_type": "code",
   "execution_count": 33,
   "id": "d1272dde",
   "metadata": {},
   "outputs": [
    {
     "data": {
      "text/plain": [
       "91"
      ]
     },
     "execution_count": 33,
     "metadata": {},
     "output_type": "execute_result"
    }
   ],
   "source": [
    "#Display the count of missing values\n",
    "flight_plane_missing.count()"
   ]
  },
  {
   "cell_type": "code",
   "execution_count": 34,
   "id": "77ad29e6",
   "metadata": {},
   "outputs": [
    {
     "name": "stdout",
     "output_type": "stream",
     "text": [
      "Original DataFrame Count: 9394\n",
      "Cleaned DataFrame Count: 9303\n"
     ]
    }
   ],
   "source": [
    "#Drop missing values \n",
    "flights_plane_new = flights_plane.na.drop()\n",
    "\n",
    "#Show the count of rows in the original and cleaned DataFrames\n",
    "print(\"Original DataFrame Count:\", flights_plane.count())\n",
    "print(\"Cleaned DataFrame Count:\", flights_plane_new.count())"
   ]
  },
  {
   "cell_type": "code",
   "execution_count": 35,
   "id": "edfac236",
   "metadata": {},
   "outputs": [
    {
     "name": "stdout",
     "output_type": "stream",
     "text": [
      "+-------+----------+--------------------+--------------+-----------+-------+-----+---------+----+-----+---+--------+---------+--------+---------+-------+------+------+----+--------+--------+----+------+----------------------------+\n",
      "|tailnum|plane_year|                type|  manufacturer|      model|engines|seats|   engine|year|month|day|dep_time|dep_delay|arr_time|arr_delay|carrier|flight|origin|dest|air_time|distance|hour|minute|flight_speed(miles per hour)|\n",
      "+-------+----------+--------------------+--------------+-----------+-------+-----+---------+----+-----+---+--------+---------+--------+---------+-------+------+------+----+--------+--------+----+------+----------------------------+\n",
      "| N846VA|      2011|Fixed wing multi ...|        AIRBUS|   A320-214|      2|  182|Turbo-fan|2014|   12|  8|     658|       -7|     935|       -5|     VX|  1780|   SEA| LAX|     132|     954|   6|    58|                      433.64|\n",
      "| N559AS|      2006|Fixed wing multi ...|        BOEING|    737-890|      2|  149|Turbo-fan|2014|    1| 22|    1040|        5|    1505|        5|     AS|   851|   SEA| HNL|     360|    2677|  10|    40|                      446.17|\n",
      "| N847VA|      2011|Fixed wing multi ...|        AIRBUS|   A320-214|      2|  182|Turbo-fan|2014|    3|  9|    1443|       -2|    1652|        2|     VX|   755|   SEA| SFO|     111|     679|  14|    43|                      367.03|\n",
      "| N360SW|      1992|Fixed wing multi ...|        BOEING|    737-3H4|      2|  149|Turbo-fan|2014|    4|  9|    1705|       45|    1839|       34|     WN|   344|   PDX| SJC|      83|     569|  17|     5|                      411.33|\n",
      "| N612AS|      1999|Fixed wing multi ...|        BOEING|    737-790|      2|  151|Turbo-jet|2014|    3|  9|     754|       -1|    1015|        1|     AS|   522|   SEA| BUR|     127|     937|   7|    54|                      442.68|\n",
      "| N646SW|      1997|Fixed wing multi ...|        BOEING|    737-3H4|      2|  149|Turbo-fan|2014|    1| 15|    1037|        7|    1352|        2|     WN|    48|   PDX| DEN|     121|     991|  10|    37|                       491.4|\n",
      "| N422WN|      2002|Fixed wing multi ...|        BOEING|    737-7H4|      2|  140|Turbo-fan|2014|    7|  2|     847|       42|    1041|       51|     WN|  1520|   PDX| OAK|      90|     543|   8|    47|                       362.0|\n",
      "| N361VA|      2013|Fixed wing multi ...|        AIRBUS|   A320-214|      2|  182|Turbo-fan|2014|    5| 12|    1655|       -5|    1842|      -18|     VX|   755|   SEA| SFO|      98|     679|  16|    55|                      415.71|\n",
      "| N309AS|      2001|Fixed wing multi ...|        BOEING|    737-990|      2|  149|Turbo-jet|2014|    4| 19|    1236|       -4|    1508|       -7|     AS|   490|   SEA| SAN|     135|    1050|  12|    36|                      466.67|\n",
      "| N564AS|      2006|Fixed wing multi ...|        BOEING|    737-890|      2|  149|Turbo-fan|2014|   11| 19|    1812|       -3|    2352|       -4|     AS|    26|   SEA| ORD|     198|    1721|  18|    12|                      521.52|\n",
      "| N323AS|      2004|Fixed wing multi ...|        BOEING|    737-990|      2|  149|Turbo-jet|2014|   11|  8|    1653|       -2|    1924|       -1|     AS|   448|   SEA| LAX|     130|     954|  16|    53|                      440.31|\n",
      "| N305AS|      2001|Fixed wing multi ...|        BOEING|    737-990|      2|  149|Turbo-jet|2014|    8|  3|    1120|        0|    1415|        2|     AS|   656|   SEA| PHX|     154|    1107|  11|    20|                       431.3|\n",
      "| N433AS|      2013|Fixed wing multi ...|        BOEING|  737-990ER|      2|  222|Turbo-fan|2014|   10| 30|     811|       21|    1038|       29|     AS|   608|   SEA| LAS|     127|     867|   8|    11|                      409.61|\n",
      "| N765AS|      1992|Fixed wing multi ...|        BOEING|    737-4Q8|      2|  149|Turbo-fan|2014|   11| 12|    2346|       -4|     217|      -28|     AS|   121|   SEA| ANC|     183|    1448|  23|    46|                      474.75|\n",
      "| N713AS|      1999|Fixed wing multi ...|        BOEING|    737-490|      2|  149|Turbo-jet|2014|   10| 31|    1314|       89|    1544|      111|     AS|   306|   SEA| SFO|     129|     679|  13|    14|                      315.81|\n",
      "| N27205|      2000|Fixed wing multi ...|        BOEING|    737-824|      2|  149|Turbo-fan|2014|    1| 29|    2009|        3|    2159|        9|     UA|  1458|   PDX| SFO|      90|     550|  20|     9|                      366.67|\n",
      "| N626AS|      2001|Fixed wing multi ...|        BOEING|    737-790|      2|  151|Turbo-jet|2014|   12| 17|    2015|       50|    2150|       41|     AS|   368|   SEA| SMF|      76|     605|  20|    15|                      477.63|\n",
      "| N8634A|      2014|Fixed wing multi ...|        BOEING|    737-8H4|      2|  140|Turbo-fan|2014|    8| 11|    1017|       -3|    1613|       -7|     WN|   827|   SEA| MDW|     216|    1733|  10|    17|                      481.39|\n",
      "| N597AS|      2008|Fixed wing multi ...|        BOEING|    737-890|      2|  149|Turbo-fan|2014|    1| 13|    2156|       -9|     607|      -15|     AS|    24|   SEA| BOS|     290|    2496|  21|    56|                      516.41|\n",
      "| N215AG|      2001|Fixed wing multi ...|BOMBARDIER INC|CL-600-2C10|      2|   80|Turbo-fan|2014|    6|  5|    1733|      -12|    1945|      -10|     OO|  3488|   PDX| BUR|     111|     817|  17|    33|                      441.62|\n",
      "+-------+----------+--------------------+--------------+-----------+-------+-----+---------+----+-----+---+--------+---------+--------+---------+-------+------+------+----+--------+--------+----+------+----------------------------+\n",
      "only showing top 20 rows\n",
      "\n"
     ]
    }
   ],
   "source": [
    "flights_plane_new.show()"
   ]
  },
  {
   "cell_type": "code",
   "execution_count": 36,
   "id": "3b8fd9c3",
   "metadata": {},
   "outputs": [
    {
     "name": "stdout",
     "output_type": "stream",
     "text": [
      "+-------+-----------+----------+-----+\n",
      "|carrier|      model|plane_year|count|\n",
      "+-------+-----------+----------+-----+\n",
      "|     AS|    737-890|      2007|  343|\n",
      "|     AS|  737-990ER|      2013|  330|\n",
      "|     AS|    737-890|      2008|  308|\n",
      "|     OO|CL-600-2C10|      2001|  300|\n",
      "|     AS|    737-490|      1998|  282|\n",
      "|     AS|    737-890|      2006|  281|\n",
      "|     AS|    737-790|      1999|  256|\n",
      "|     AS|    737-890|      2009|  209|\n",
      "|     AS|  737-990ER|      2014|  206|\n",
      "|     AS|    737-790|      2000|  161|\n",
      "|     AS|    737-990|      2003|  142|\n",
      "|     AS|    737-990|      2001|  133|\n",
      "|     AS|  737-990ER|      2012|  128|\n",
      "|     AS|    737-790|      2001|  120|\n",
      "|     OO|CL-600-2D24|      2006|  118|\n",
      "|     AS|    737-890|      2010|  109|\n",
      "|     DL|    737-832|      2001|  108|\n",
      "|     AS|    737-4Q8|      1992|   93|\n",
      "|     WN|    737-7H4|      2004|   90|\n",
      "|     AS|    737-490|      1997|   89|\n",
      "+-------+-----------+----------+-----+\n",
      "\n",
      "+-------+--------------+----------+-----+\n",
      "|carrier|         model|plane_year|count|\n",
      "+-------+--------------+----------+-----+\n",
      "|     F9|      A319-112|      2009|    1|\n",
      "|     US|       757-2S7|      1985|    1|\n",
      "|     OO|   CL-600-2C10|      1999|    1|\n",
      "|     AA|           150|      1959|    1|\n",
      "|     US|      A319-132|      2006|    1|\n",
      "|     US|      A319-132|      2005|    1|\n",
      "|     WN|       737-705|      1998|    1|\n",
      "|     DL|      A330-323|      2007|    1|\n",
      "|     WN|       737-3T5|      1985|    1|\n",
      "|     US|      A319-132|      2001|    1|\n",
      "|     DL|     767-432ER|      2002|    1|\n",
      "|     F9|      A319-112|      2004|    1|\n",
      "|     DL|       757-251|      1988|    1|\n",
      "|     DL|      MD-90-30|      1995|    1|\n",
      "|     DL|     767-432ER|      2000|    1|\n",
      "|     AA|DC-9-82(MD-82)|      1989|    1|\n",
      "|     DL|      MD-90-30|      1994|    1|\n",
      "|     US|      A321-211|      2008|    1|\n",
      "|     WN|       737-5H4|      1991|    1|\n",
      "|     DL|       757-232|      1984|    1|\n",
      "+-------+--------------+----------+-----+\n",
      "\n"
     ]
    }
   ],
   "source": [
    "#Find the Top 20 planes (e.g., carrier, model, plane_year) that made\n",
    "#the most number of trips. Sort the results from highest to lowest counts.\n",
    "flights_plane_new.groupBy(\"carrier\",\"model\",\"plane_year\") \\\n",
    "  .count() \\\n",
    "  .sort(desc(\"count\")) \\\n",
    "  .limit(20) \\\n",
    "  .show()\n",
    "\n",
    "\n",
    "#Find the Bottom 20 planes (e.g., carrier, model, plane_year) planes (e.g., carrier, model, plane_year) that\n",
    "#made the least number of trips. Sort the results from the lowest to highest counts.\n",
    "flights_plane_new.groupBy(\"carrier\",\"model\",\"plane_year\") \\\n",
    "  .count() \\\n",
    "  .sort(asc(\"count\")) \\\n",
    "  .limit(20) \\\n",
    "  .show()"
   ]
  },
  {
   "cell_type": "code",
   "execution_count": 37,
   "id": "78a9bfce",
   "metadata": {},
   "outputs": [
    {
     "name": "stdout",
     "output_type": "stream",
     "text": [
      "+-------+-----------+----------+-----+\n",
      "|carrier|      model|plane_year|count|\n",
      "+-------+-----------+----------+-----+\n",
      "|     AS|    737-890|      2007|  343|\n",
      "|     AS|  737-990ER|      2013|  330|\n",
      "|     AS|    737-890|      2008|  308|\n",
      "|     OO|CL-600-2C10|      2001|  300|\n",
      "|     AS|    737-490|      1998|  282|\n",
      "|     AS|    737-890|      2006|  281|\n",
      "|     AS|    737-790|      1999|  256|\n",
      "|     AS|    737-890|      2009|  209|\n",
      "|     AS|  737-990ER|      2014|  206|\n",
      "|     AS|    737-790|      2000|  161|\n",
      "|     AS|    737-990|      2003|  142|\n",
      "|     AS|    737-990|      2001|  133|\n",
      "|     AS|  737-990ER|      2012|  128|\n",
      "|     AS|    737-790|      2001|  120|\n",
      "|     OO|CL-600-2D24|      2006|  118|\n",
      "|     AS|    737-890|      2010|  109|\n",
      "|     DL|    737-832|      2001|  108|\n",
      "|     AS|    737-4Q8|      1992|   93|\n",
      "|     WN|    737-7H4|      2004|   90|\n",
      "|     AS|    737-490|      1997|   89|\n",
      "+-------+-----------+----------+-----+\n",
      "\n",
      "+-------+--------------+----------+-----+\n",
      "|carrier|         model|plane_year|count|\n",
      "+-------+--------------+----------+-----+\n",
      "|     F9|      A319-112|      2009|    1|\n",
      "|     US|       757-2S7|      1985|    1|\n",
      "|     OO|   CL-600-2C10|      1999|    1|\n",
      "|     AA|           150|      1959|    1|\n",
      "|     US|      A319-132|      2006|    1|\n",
      "|     US|      A319-132|      2005|    1|\n",
      "|     WN|       737-705|      1998|    1|\n",
      "|     DL|      A330-323|      2007|    1|\n",
      "|     WN|       737-3T5|      1985|    1|\n",
      "|     US|      A319-132|      2001|    1|\n",
      "|     DL|     767-432ER|      2002|    1|\n",
      "|     F9|      A319-112|      2004|    1|\n",
      "|     DL|       757-251|      1988|    1|\n",
      "|     DL|      MD-90-30|      1995|    1|\n",
      "|     DL|     767-432ER|      2000|    1|\n",
      "|     AA|DC-9-82(MD-82)|      1989|    1|\n",
      "|     DL|      MD-90-30|      1994|    1|\n",
      "|     US|      A321-211|      2008|    1|\n",
      "|     WN|       737-5H4|      1991|    1|\n",
      "|     DL|       757-232|      1984|    1|\n",
      "+-------+--------------+----------+-----+\n",
      "\n"
     ]
    }
   ],
   "source": [
    "#SQL Find the Top 20 planes (e.g., carrier, model, plane_year) that made\n",
    "#the most number of trips. Sort the results from highest to lowest counts.\n",
    "flights_plane_new.createOrReplaceTempView(\"flights_plane_new\")\n",
    "spark.sql(\"\"\"\n",
    "SELECT carrier, model, plane_year, COUNT(*) as count\n",
    "FROM flights_plane_new\n",
    "GROUP BY carrier, model, plane_year\n",
    "ORDER BY count DESC\n",
    "LIMIT 20\n",
    "\"\"\").show()\n",
    "\n",
    "\n",
    "\n",
    "#SQL Find the Bottom 20 planes (e.g., carrier, model, plane_year) planes (e.g., carrier, model, plane_year) that\n",
    "#made the least number of trips. Sort the results from the lowest to highest counts.\n",
    "spark.sql(\"\"\"\n",
    "SELECT carrier, model, plane_year, COUNT(*) as count\n",
    "FROM flights_plane_new\n",
    "GROUP BY carrier, model, plane_year\n",
    "ORDER BY count ASC\n",
    "LIMIT 20\n",
    "\"\"\").show()"
   ]
  },
  {
   "cell_type": "code",
   "execution_count": 38,
   "id": "83086628",
   "metadata": {},
   "outputs": [],
   "source": [
    "spark.stop()"
   ]
  },
  {
   "cell_type": "code",
   "execution_count": null,
   "id": "f0581284",
   "metadata": {},
   "outputs": [],
   "source": []
  }
 ],
 "metadata": {
  "kernelspec": {
   "display_name": "Python 3 (ipykernel)",
   "language": "python",
   "name": "python3"
  },
  "language_info": {
   "codemirror_mode": {
    "name": "ipython",
    "version": 3
   },
   "file_extension": ".py",
   "mimetype": "text/x-python",
   "name": "python",
   "nbconvert_exporter": "python",
   "pygments_lexer": "ipython3",
   "version": "3.11.5"
  }
 },
 "nbformat": 4,
 "nbformat_minor": 5
}
